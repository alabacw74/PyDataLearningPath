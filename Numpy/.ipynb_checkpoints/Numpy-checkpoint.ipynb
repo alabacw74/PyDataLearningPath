{
 "cells": [
  {
   "cell_type": "markdown",
   "id": "de88df9d",
   "metadata": {},
   "source": [
    "# Introducción a NumPy"
   ]
  },
  {
   "cell_type": "markdown",
   "id": "20cba099",
   "metadata": {},
   "source": [
    "## ¿Qué es NumPy?"
   ]
  },
  {
   "cell_type": "markdown",
   "id": "df624e94",
   "metadata": {},
   "source": [
    "### Palabras Clave\n",
    "\n",
    "* Paquete\n",
    "* Matriz multidimensional\n",
    "* Operaciones rápidas entre matrices\n",
    "* Objeto ndarray\n",
    "* Datos homogéneos\n",
    "* Ejecución de código compilado."
   ]
  },
  {
   "cell_type": "markdown",
   "id": "42b09d18",
   "metadata": {},
   "source": [
    "Si nos dirigimos a la documentación oficial de [Numpy](https://numpy.org/doc/stable/user/whatisnumpy.html), podemos decir, en resumen, que es una herramienta útil cuando deseamos realizar operaciones con matrices. Su potencial se muestra al trabajar con matrices de tamaños cada vez más grandes, ya que ejecuta código compilado para realizar las operaciones sin la necesidad de salir de Python.\n",
    "\n",
    "Es importante destacar que los objetos ndarray deben ser de **datos homogéneos**, mencionándolo para evitar errores de ejecución."
   ]
  },
  {
   "cell_type": "markdown",
   "id": "64856958",
   "metadata": {},
   "source": [
    "## Diferencias entre el úso de NumPy y las secuencias estándar de Python"
   ]
  },
  {
   "cell_type": "markdown",
   "id": "d490b0ee",
   "metadata": {},
   "source": [
    "|Numpy|Python|\n",
    "|:--------------------------------------:|:-------------------------:|\n",
    "|Tamaño fijo en el momento de su creación|Pueden crecer dinámicamente|\n",
    "|Los elementos deben ser homogéneos|Permite multples datos|\n",
    "|Facilidad en operaciones matemáticas avanzadas y procesamiento de grandes conjuntos de datos|Requiere implementar las operaciones además de la reducción en el rendimiento|\n",
    "|Compatibilidad con la mayoría del software científico/matemático basado en Python| **Saber cómo usar los tipos de secuencia integrados de Python es insuficiente**|"
   ]
  },
  {
   "cell_type": "markdown",
   "id": "63aa194e",
   "metadata": {},
   "source": [
    "> Cambiar el tamaño de un *ndarray* creará una nueva matrz y eliminará el original.\n",
    "\n",
    "> Es posible crear una matriz de objetos en NumPy permitiendo una mayor flexibilidad. Con la consecuencia de perder rendimiento y la capacidad de aprovechar las implementaciones más eficientes que ofrece el paquete.\n",
    "\n",
    "> NumPy nos ofrece lo mejor de ambos mundos. Se ejecuta a velocidades cercanas a C, pero con la simplicidad del código que esperamos de algo basado en Python."
   ]
  },
  {
   "cell_type": "markdown",
   "id": "faa2657e",
   "metadata": {},
   "source": [
    "## ¿Por qué utilizar NumPy?"
   ]
  },
  {
   "cell_type": "markdown",
   "id": "ef98f683",
   "metadata": {},
   "source": [
    "Pienso que la principal razón para utilizar NumPy es por su escalabilidad a paquetes basados en Python. Si deseamos utilizar Python como lenguaje de programación enfocado en aplicaciones cientificas de cualquier área NumPy es el estandar, tal es así que en la misma documentación refieren que la mayoria de las paqueterias que se implementan para Python requieren como base un arreglo de Numpy. El punto anterior es el fundamento de la necesidad de aprender a utilizarlo, como segundo punto esta el tiempo. Si nos enfocamos en el análisis de datos, encontraremos con frecuencia conjuntos de datos que superan el millon de datos, por ello es necesario tener una forma eficiente de preparar, procesar y analizar nuestros datos sin tener que sacrificar la facilidad en la codificación, esto es algo que logra el paquete Numpy gracias a las siguientes caracteristicas:\n",
    "\n",
    "* Vectorización: Permite realizar operaciones en arreglos completos en lugar de iterar sobre elementos individualmente.\n",
    "* Operaciones en C optimizadas: La implementación de las operaciones que realiza se implementan en C, provocando que se manipulen los datos a un nivel de abstracción más bajo.\n",
    "* Radiodifusión: Permite realizar operaciones entre arreglos de diferentes formas y tamaños de manera automática y eficiente."
   ]
  },
  {
   "cell_type": "markdown",
   "id": "770e903d",
   "metadata": {},
   "source": [
    "## ¿Cómo empezar a utilizar NumPy?"
   ]
  },
  {
   "cell_type": "markdown",
   "id": "4f3339a7",
   "metadata": {},
   "source": [
    "Lo primero que se debe hacer para utilizar NumPy es instalar la libreria utilizando:\n",
    "\n",
    "```\n",
    "pip install numpy\n",
    "\n",
    "```\n",
    "Después es necesario importar la biblioteca en nuestro script"
   ]
  },
  {
   "cell_type": "code",
   "execution_count": 2,
   "id": "68325a7d",
   "metadata": {},
   "outputs": [],
   "source": [
    "# Importación de numpy con alias\n",
    "import numpy as np"
   ]
  },
  {
   "cell_type": "markdown",
   "id": "9c4b864d",
   "metadata": {},
   "source": [
    "Si la estructura básica para utilizar NumPy es un array entonces debemos saber como crearlos o inicializarlos, antes de poder pensar en operarlos."
   ]
  },
  {
   "cell_type": "markdown",
   "id": "5a28804d",
   "metadata": {},
   "source": [
    "### Atributos básicos de la clase ndarray"
   ]
  },
  {
   "cell_type": "markdown",
   "id": "779bafb7",
   "metadata": {},
   "source": [
    "- `ndarray.ndim`: El número de ejes (dimensiones) del array\n",
    "- `ndarray.shape`: Es una tupla de números enteros que indica la longitud  de cada dimensión.*(filas, columnas)*\n",
    "- `ndarray.size`: El número total de elementos del array, es igual a multiplicar los elementos de la tupla devuelta por `shape`.\n",
    "- `ndarray.dtype`: Devuelve una descripción del tipo de elementos que existen dentro del array. NumPy proporciona algunos tipos adicionales, por ejemplo, `numpy.int32`, `numpy.int16` o `numpy.float64`."
   ]
  },
  {
   "cell_type": "markdown",
   "id": "619c4511",
   "metadata": {},
   "source": [
    "### Creación de un array\n",
    "#### Desde una lista de Python"
   ]
  },
  {
   "cell_type": "code",
   "execution_count": 8,
   "id": "cf0d265f",
   "metadata": {},
   "outputs": [
    {
     "name": "stdout",
     "output_type": "stream",
     "text": [
      "[  1   2  56 878  14  45  19  21]\n"
     ]
    }
   ],
   "source": [
    "lista_01 = [1, 2, 56, 878, 14, 45, 19, 21]\n",
    "a = np.array(lista_01)\n",
    "print(a)"
   ]
  },
  {
   "cell_type": "code",
   "execution_count": null,
   "id": "62f65afa",
   "metadata": {},
   "outputs": [],
   "source": [
    "# Longitud de cada dimensión del array a\n",
    "a.shape"
   ]
  },
  {
   "cell_type": "markdown",
   "id": "2a58cc60",
   "metadata": {},
   "source": [
    "> **Nota** Observa que si el array es de una sola dimensión el atributo shape devuelve la tupla *(columnas,)* esta es una convención y lo que indica es que tenemos un array de *1 fila y 8 columnas*."
   ]
  },
  {
   "cell_type": "code",
   "execution_count": 14,
   "id": "ccc15bb1",
   "metadata": {},
   "outputs": [
    {
     "data": {
      "text/plain": [
       "array([[ 10, 155,  45],\n",
       "       [ 21, 178,  75]])"
      ]
     },
     "execution_count": 14,
     "metadata": {},
     "output_type": "execute_result"
    }
   ],
   "source": [
    "lista_02 = [[10,155,45],[21,178,75]]\n",
    "b = np.array(lista_02)\n",
    "b"
   ]
  },
  {
   "cell_type": "code",
   "execution_count": 15,
   "id": "6cc7e1f1",
   "metadata": {},
   "outputs": [
    {
     "data": {
      "text/plain": [
       "(2, 3)"
      ]
     },
     "execution_count": 15,
     "metadata": {},
     "output_type": "execute_result"
    }
   ],
   "source": [
    "# Longitud de cada dimensión del array b\n",
    "b.shape"
   ]
  },
  {
   "cell_type": "markdown",
   "id": "1e1fbdba",
   "metadata": {},
   "source": [
    "Existen situaciones en donde necesitamos inicializar un array con valores que desconocemos y NumPy ofrece funciones para crear matrices con *contenido de marcador de posición inicial*."
   ]
  },
  {
   "cell_type": "markdown",
   "id": "bb2a888f",
   "metadata": {},
   "source": [
    "#### Utilizando una función de NumPy"
   ]
  },
  {
   "cell_type": "markdown",
   "id": "2dccdf66",
   "metadata": {},
   "source": [
    "##### Matriz con ceros"
   ]
  },
  {
   "cell_type": "code",
   "execution_count": 18,
   "id": "6269d5c5",
   "metadata": {},
   "outputs": [
    {
     "data": {
      "text/plain": [
       "array([[0., 0., 0.],\n",
       "       [0., 0., 0.],\n",
       "       [0., 0., 0.],\n",
       "       [0., 0., 0.],\n",
       "       [0., 0., 0.]])"
      ]
     },
     "execution_count": 18,
     "metadata": {},
     "output_type": "execute_result"
    }
   ],
   "source": [
    "c = np.zeros((5,3)) # Matriz de 5x3 rellena de zeros\n",
    "c"
   ]
  },
  {
   "cell_type": "code",
   "execution_count": 20,
   "id": "096b9990",
   "metadata": {},
   "outputs": [
    {
     "data": {
      "text/plain": [
       "2"
      ]
     },
     "execution_count": 20,
     "metadata": {},
     "output_type": "execute_result"
    }
   ],
   "source": [
    "# Número de dimensiones de la matriz\n",
    "c.ndim"
   ]
  },
  {
   "cell_type": "code",
   "execution_count": 23,
   "id": "a9f72e60",
   "metadata": {},
   "outputs": [
    {
     "data": {
      "text/plain": [
       "(5, 3)"
      ]
     },
     "execution_count": 23,
     "metadata": {},
     "output_type": "execute_result"
    }
   ],
   "source": [
    "# Longitud de cada dimensión\n",
    "c.shape"
   ]
  },
  {
   "cell_type": "code",
   "execution_count": 25,
   "id": "88d5db1d",
   "metadata": {},
   "outputs": [
    {
     "data": {
      "text/plain": [
       "15"
      ]
     },
     "execution_count": 25,
     "metadata": {},
     "output_type": "execute_result"
    }
   ],
   "source": [
    "# Número de elementos de la matriz\n",
    "c.size"
   ]
  },
  {
   "cell_type": "code",
   "execution_count": 27,
   "id": "a8e2bf09",
   "metadata": {},
   "outputs": [
    {
     "data": {
      "text/plain": [
       "dtype('float64')"
      ]
     },
     "execution_count": 27,
     "metadata": {},
     "output_type": "execute_result"
    }
   ],
   "source": [
    "# Tipo de matriz\n",
    "c.dtype"
   ]
  },
  {
   "cell_type": "markdown",
   "id": "0606d9ca",
   "metadata": {},
   "source": [
    "c es una matriz con:\n",
    "- Dos ejes (**axis**) es decir, dos dimensiones (**rank**).\n",
    "- Longitud de 5 filas y 3 columnas (**shape**)\n",
    "- Un tamaño (**size**) de 15.\n",
    "- Tipo de elemento `float64`"
   ]
  }
 ],
 "metadata": {
  "kernelspec": {
   "display_name": "Python 3 (ipykernel)",
   "language": "python",
   "name": "python3"
  },
  "language_info": {
   "codemirror_mode": {
    "name": "ipython",
    "version": 3
   },
   "file_extension": ".py",
   "mimetype": "text/x-python",
   "name": "python",
   "nbconvert_exporter": "python",
   "pygments_lexer": "ipython3",
   "version": "3.11.5"
  }
 },
 "nbformat": 4,
 "nbformat_minor": 5
}
