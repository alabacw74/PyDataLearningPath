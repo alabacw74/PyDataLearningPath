{
 "cells": [
  {
   "cell_type": "markdown",
   "id": "de88df9d",
   "metadata": {},
   "source": [
    "![Numpy](https://numpy.org/doc/stable/_static/numpylogo_dark.svg)\n",
    "# Introducción a NumPy"
   ]
  },
  {
   "cell_type": "markdown",
   "id": "20cba099",
   "metadata": {},
   "source": [
    "## ¿Qué es NumPy?"
   ]
  },
  {
   "cell_type": "markdown",
   "id": "df624e94",
   "metadata": {},
   "source": [
    "### Palabras Clave\n",
    "\n",
    "* Paquete\n",
    "* Matriz multidimensional\n",
    "* Operaciones rápidas entre matrices\n",
    "* Objeto ndarray\n",
    "* Datos homogéneos\n",
    "* Ejecución de código compilado."
   ]
  },
  {
   "cell_type": "markdown",
   "id": "42b09d18",
   "metadata": {},
   "source": [
    "Si nos dirigimos a la documentación oficial de [Numpy](https://numpy.org/doc/stable/user/whatisnumpy.html), podemos decir, en resumen, que es una herramienta útil cuando deseamos realizar operaciones con matrices. Su potencial se muestra al trabajar con matrices de tamaños cada vez más grandes, ya que ejecuta código compilado para realizar las operaciones sin la necesidad de salir de Python.\n",
    "\n",
    "Es importante destacar que los objetos ndarray deben ser de **datos homogéneos**, mencionándolo para evitar errores de ejecución."
   ]
  },
  {
   "cell_type": "markdown",
   "id": "64856958",
   "metadata": {},
   "source": [
    "## Diferencias entre el úso de NumPy y las secuencias estándar de Python"
   ]
  },
  {
   "cell_type": "markdown",
   "id": "d490b0ee",
   "metadata": {},
   "source": [
    "|Numpy|Python|\n",
    "|:--------------------------------------:|:-------------------------:|\n",
    "|Tamaño fijo en el momento de su creación|Pueden crecer dinámicamente|\n",
    "|Los elementos deben ser homogéneos|Permite multples datos|\n",
    "|Facilidad en operaciones matemáticas avanzadas y procesamiento de grandes conjuntos de datos|Requiere implementar las operaciones además de la reducción en el rendimiento|\n",
    "|Compatibilidad con la mayoría del software científico/matemático basado en Python| **Saber cómo usar los tipos de secuencia integrados de Python es insuficiente**|"
   ]
  },
  {
   "cell_type": "markdown",
   "id": "63aa194e",
   "metadata": {},
   "source": [
    "> Cambiar el tamaño de un *ndarray* creará una nueva matrz y eliminará el original.\n",
    "\n",
    "> Es posible crear una matriz de objetos en NumPy permitiendo una mayor flexibilidad. Con la consecuencia de perder rendimiento y la capacidad de aprovechar las implementaciones más eficientes que ofrece el paquete.\n",
    "\n",
    "> NumPy nos ofrece lo mejor de ambos mundos. Se ejecuta a velocidades cercanas a C, pero con la simplicidad del código que esperamos de algo basado en Python."
   ]
  },
  {
   "cell_type": "markdown",
   "id": "faa2657e",
   "metadata": {},
   "source": [
    "## ¿Por qué utilizar NumPy?"
   ]
  },
  {
   "cell_type": "markdown",
   "id": "ef98f683",
   "metadata": {},
   "source": [
    "Pienso que la principal razón para utilizar NumPy es por su escalabilidad a paquetes basados en Python. Si deseamos utilizar Python como lenguaje de programación enfocado en aplicaciones cientificas de cualquier área NumPy es el estandar, tal es así que en la misma documentación refieren que la mayoria de las paqueterias que se implementan para Python requieren como base un arreglo de Numpy. El punto anterior es el fundamento de la necesidad de aprender a utilizarlo, como segundo punto esta el tiempo. Si nos enfocamos en el análisis de datos, encontraremos con frecuencia conjuntos de datos que superan el millon de datos, por ello es necesario tener una forma eficiente de preparar, procesar y analizar nuestros datos sin tener que sacrificar la facilidad en la codificación, esto es algo que logra el paquete Numpy gracias a las siguientes caracteristicas:\n",
    "\n",
    "* Vectorización: Permite realizar operaciones en arreglos completos en lugar de iterar sobre elementos individualmente.\n",
    "* Operaciones en C optimizadas: La implementación de las operaciones que realiza se implementan en C, provocando que se manipulen los datos a un nivel de abstracción más bajo.\n",
    "* Radiodifusión: Permite realizar operaciones entre arreglos de diferentes formas y tamaños de manera automática y eficiente."
   ]
  },
  {
   "cell_type": "markdown",
   "id": "770e903d",
   "metadata": {},
   "source": [
    "## ¿Cómo empezar a utilizar NumPy?"
   ]
  },
  {
   "cell_type": "markdown",
   "id": "4f3339a7",
   "metadata": {},
   "source": [
    "Lo primero que se debe hacer para utilizar NumPy es instalar la libreria utilizando:\n",
    "\n",
    "```\n",
    "pip install numpy\n",
    "\n",
    "```\n",
    "Después es necesario importar la biblioteca en nuestro script"
   ]
  },
  {
   "cell_type": "code",
   "execution_count": 2,
   "id": "68325a7d",
   "metadata": {},
   "outputs": [],
   "source": [
    "# Importación de numpy con alias\n",
    "import numpy as np"
   ]
  },
  {
   "cell_type": "markdown",
   "id": "9c4b864d",
   "metadata": {},
   "source": [
    "Si la estructura básica para utilizar NumPy es un array entonces debemos saber como crearlos o inicializarlos, antes de poder pensar en operarlos."
   ]
  },
  {
   "cell_type": "markdown",
   "id": "5a28804d",
   "metadata": {},
   "source": [
    "### Atributos básicos de la clase ndarray"
   ]
  },
  {
   "cell_type": "markdown",
   "id": "779bafb7",
   "metadata": {},
   "source": [
    "- `ndarray.ndim`: El número de ejes (dimensiones) del array\n",
    "- `ndarray.shape`: Es una tupla de números enteros que indica la longitud  de cada dimensión.*(filas, columnas)*\n",
    "- `ndarray.size`: El número total de elementos del array, es igual a multiplicar los elementos de la tupla devuelta por `shape`.\n",
    "- `ndarray.dtype`: Devuelve una descripción del tipo de elementos que existen dentro del array. NumPy proporciona algunos tipos adicionales, por ejemplo, `numpy.int32`, `numpy.int16` o `numpy.float64`."
   ]
  },
  {
   "cell_type": "markdown",
   "id": "619c4511",
   "metadata": {},
   "source": [
    "### Creación de un array\n",
    "#### Desde una lista de Python"
   ]
  },
  {
   "cell_type": "code",
   "execution_count": 3,
   "id": "cf0d265f",
   "metadata": {},
   "outputs": [
    {
     "name": "stdout",
     "output_type": "stream",
     "text": [
      "[  1   2  56 878  14  45  19  21]\n"
     ]
    }
   ],
   "source": [
    "lista_01 = [1, 2, 56, 878, 14, 45, 19, 21]\n",
    "a = np.array(lista_01)\n",
    "print(a)"
   ]
  },
  {
   "cell_type": "code",
   "execution_count": 4,
   "id": "62f65afa",
   "metadata": {},
   "outputs": [
    {
     "data": {
      "text/plain": [
       "(8,)"
      ]
     },
     "execution_count": 4,
     "metadata": {},
     "output_type": "execute_result"
    }
   ],
   "source": [
    "# Longitud de cada dimensión del array a\n",
    "a.shape"
   ]
  },
  {
   "cell_type": "markdown",
   "id": "2a58cc60",
   "metadata": {},
   "source": [
    "> **Nota** Observa que si el array es de una sola dimensión el atributo shape devuelve la tupla *(columnas,)* esta es una convención y lo que indica es que tenemos un array de *1 fila y 8 columnas*."
   ]
  },
  {
   "cell_type": "code",
   "execution_count": 5,
   "id": "ccc15bb1",
   "metadata": {},
   "outputs": [
    {
     "data": {
      "text/plain": [
       "array([[ 10, 155,  45],\n",
       "       [ 21, 178,  75]])"
      ]
     },
     "execution_count": 5,
     "metadata": {},
     "output_type": "execute_result"
    }
   ],
   "source": [
    "lista_02 = [[10,155,45],[21,178,75]]\n",
    "b = np.array(lista_02)\n",
    "b"
   ]
  },
  {
   "cell_type": "code",
   "execution_count": 6,
   "id": "6cc7e1f1",
   "metadata": {},
   "outputs": [
    {
     "data": {
      "text/plain": [
       "(2, 3)"
      ]
     },
     "execution_count": 6,
     "metadata": {},
     "output_type": "execute_result"
    }
   ],
   "source": [
    "# Longitud de cada dimensión del array b\n",
    "b.shape"
   ]
  },
  {
   "cell_type": "markdown",
   "id": "1e1fbdba",
   "metadata": {},
   "source": [
    "Existen situaciones en donde necesitamos inicializar un array con valores que desconocemos y NumPy ofrece funciones para crear matrices con *contenido de marcador de posición inicial*."
   ]
  },
  {
   "cell_type": "markdown",
   "id": "bb2a888f",
   "metadata": {},
   "source": [
    "#### Utilizando una función de NumPy"
   ]
  },
  {
   "cell_type": "markdown",
   "id": "2dccdf66",
   "metadata": {},
   "source": [
    "##### Matriz con ceros"
   ]
  },
  {
   "cell_type": "code",
   "execution_count": 7,
   "id": "6269d5c5",
   "metadata": {},
   "outputs": [
    {
     "data": {
      "text/plain": [
       "array([[0., 0., 0.],\n",
       "       [0., 0., 0.],\n",
       "       [0., 0., 0.],\n",
       "       [0., 0., 0.],\n",
       "       [0., 0., 0.]])"
      ]
     },
     "execution_count": 7,
     "metadata": {},
     "output_type": "execute_result"
    }
   ],
   "source": [
    "c = np.zeros((5,3)) # Matriz de 5x3 rellena de zeros\n",
    "c"
   ]
  },
  {
   "cell_type": "code",
   "execution_count": 8,
   "id": "096b9990",
   "metadata": {},
   "outputs": [
    {
     "data": {
      "text/plain": [
       "2"
      ]
     },
     "execution_count": 8,
     "metadata": {},
     "output_type": "execute_result"
    }
   ],
   "source": [
    "# Número de dimensiones de la matriz\n",
    "c.ndim"
   ]
  },
  {
   "cell_type": "code",
   "execution_count": 9,
   "id": "a9f72e60",
   "metadata": {},
   "outputs": [
    {
     "data": {
      "text/plain": [
       "(5, 3)"
      ]
     },
     "execution_count": 9,
     "metadata": {},
     "output_type": "execute_result"
    }
   ],
   "source": [
    "# Longitud de cada dimensión\n",
    "c.shape"
   ]
  },
  {
   "cell_type": "code",
   "execution_count": 10,
   "id": "88d5db1d",
   "metadata": {},
   "outputs": [
    {
     "data": {
      "text/plain": [
       "15"
      ]
     },
     "execution_count": 10,
     "metadata": {},
     "output_type": "execute_result"
    }
   ],
   "source": [
    "# Número de elementos de la matriz\n",
    "c.size"
   ]
  },
  {
   "cell_type": "code",
   "execution_count": 11,
   "id": "a8e2bf09",
   "metadata": {},
   "outputs": [
    {
     "data": {
      "text/plain": [
       "dtype('float64')"
      ]
     },
     "execution_count": 11,
     "metadata": {},
     "output_type": "execute_result"
    }
   ],
   "source": [
    "# Tipo de matriz\n",
    "c.dtype"
   ]
  },
  {
   "cell_type": "markdown",
   "id": "0606d9ca",
   "metadata": {},
   "source": [
    "c es una matriz con:\n",
    "- Dos ejes (**axis**) es decir, dos dimensiones (**rank**).\n",
    "- Longitud de 5 filas y 3 columnas (**shape**)\n",
    "- Un tamaño (**size**) de 15.\n",
    "- Tipo de elemento `float64`"
   ]
  },
  {
   "cell_type": "markdown",
   "id": "2ca856cd-2ac5-45eb-b959-1cc6ab3f25bb",
   "metadata": {},
   "source": [
    "##### Matriz con unos"
   ]
  },
  {
   "cell_type": "code",
   "execution_count": 12,
   "id": "b95717b0-de0f-4d3c-81a5-ebf0646e39fc",
   "metadata": {
    "tags": []
   },
   "outputs": [
    {
     "data": {
      "text/plain": [
       "array([[[1., 1., 1., 1.],\n",
       "        [1., 1., 1., 1.],\n",
       "        [1., 1., 1., 1.]],\n",
       "\n",
       "       [[1., 1., 1., 1.],\n",
       "        [1., 1., 1., 1.],\n",
       "        [1., 1., 1., 1.]]])"
      ]
     },
     "execution_count": 12,
     "metadata": {},
     "output_type": "execute_result"
    }
   ],
   "source": [
    "# Array cuyos valores son todos 1\n",
    "np.ones((2,3,4))"
   ]
  },
  {
   "cell_type": "markdown",
   "id": "792e47d1-6edb-4805-afb3-11b90d24e4d4",
   "metadata": {},
   "source": [
    "##### Matriz cuyos valores son todos el valor especificado como segundo parámetro"
   ]
  },
  {
   "cell_type": "code",
   "execution_count": 13,
   "id": "144bb134-5ee4-48ba-b6a5-f7c117b9dc0f",
   "metadata": {
    "tags": []
   },
   "outputs": [
    {
     "data": {
      "text/plain": [
       "array([[[7, 7, 7, 7],\n",
       "        [7, 7, 7, 7],\n",
       "        [7, 7, 7, 7]],\n",
       "\n",
       "       [[7, 7, 7, 7],\n",
       "        [7, 7, 7, 7],\n",
       "        [7, 7, 7, 7]]])"
      ]
     },
     "execution_count": 13,
     "metadata": {},
     "output_type": "execute_result"
    }
   ],
   "source": [
    "np.full((2, 3, 4), 7)"
   ]
  },
  {
   "cell_type": "markdown",
   "id": "4cc2660d-749d-4944-951a-818eb0c9378f",
   "metadata": {},
   "source": [
    "##### Matriz generada con empty"
   ]
  },
  {
   "cell_type": "markdown",
   "id": "88de06ea-acd5-4db0-9a3a-3a8146e8cbf4",
   "metadata": {},
   "source": [
    "El resultado no es predecible, rellena las dimensiones que se especifican con valores existentes en la memoria al momento de ejecución"
   ]
  },
  {
   "cell_type": "code",
   "execution_count": 14,
   "id": "7ca32fd4-3a58-40a3-8072-62ffa91b3001",
   "metadata": {
    "tags": []
   },
   "outputs": [
    {
     "data": {
      "text/plain": [
       "array([[[4.04738577e-320, 2.68771711e-321, 0.00000000e+000,\n",
       "         1.29578874e-316],\n",
       "        [4.94065646e-324, 1.29578953e-316, 1.29581087e-316,\n",
       "         1.18575755e-322],\n",
       "        [6.90535094e-310, 4.24399158e-314, 5.81021200e-321,\n",
       "         4.94065646e-324],\n",
       "        [4.24399158e-314, 1.03753786e-322, 1.29578992e-316,\n",
       "         6.90535220e-310],\n",
       "        [6.90518650e-310, 4.94065646e-324, 1.69759663e-313,\n",
       "         4.94065646e-324],\n",
       "        [1.29579546e-316, 1.29580494e-316, 1.48219694e-323,\n",
       "         1.29579664e-316],\n",
       "        [1.29579783e-316, 1.29580020e-316, 1.29580257e-316,\n",
       "         9.88131292e-323]],\n",
       "\n",
       "       [[6.90535223e-310, 0.00000000e+000, 4.94065646e-324,\n",
       "         2.12199579e-313],\n",
       "        [2.33419537e-313, 9.88131292e-323, 6.90535223e-310,\n",
       "         0.00000000e+000],\n",
       "        [5.58788245e-321, 2.54639495e-313, 2.75859453e-313,\n",
       "         9.88131292e-323],\n",
       "        [6.90535223e-310, 0.00000000e+000, 5.43472210e-323,\n",
       "         2.97079411e-313],\n",
       "        [3.18299369e-313, 9.88131292e-323, 6.90531579e-310,\n",
       "         0.00000000e+000],\n",
       "        [5.60270442e-321, 1.90979621e-313, 3.39519327e-313,\n",
       "         0.00000000e+000],\n",
       "        [1.29580810e-316, 0.00000000e+000, 8.39911598e-323,\n",
       "         1.29579229e-316]],\n",
       "\n",
       "       [[1.29579466e-316, 1.29580731e-316, 4.94065646e-324,\n",
       "         3.60739284e-313],\n",
       "        [1.13635099e-322, 1.29580850e-316, 2.96439388e-323,\n",
       "         0.00000000e+000],\n",
       "        [5.58788245e-321, 1.29582194e-316, 2.96439388e-323,\n",
       "         4.94065646e-324],\n",
       "        [3.60739284e-313, 9.88131292e-324, 1.29578874e-316,\n",
       "         1.29581245e-316],\n",
       "        [5.59776377e-321, 1.29582194e-316, 6.90518650e-310,\n",
       "         1.29581403e-316],\n",
       "        [5.60270442e-321, 1.29582194e-316, 2.96439388e-323,\n",
       "         1.29581561e-316],\n",
       "        [5.60764508e-321, 1.29582194e-316, 2.96439388e-323,\n",
       "         1.29581719e-316]]])"
      ]
     },
     "execution_count": 14,
     "metadata": {},
     "output_type": "execute_result"
    }
   ],
   "source": [
    "np.empty((3,7,4))"
   ]
  },
  {
   "cell_type": "markdown",
   "id": "e8adc4e7-c7b5-4a80-80da-1969b122f5bd",
   "metadata": {},
   "source": [
    "#### Creación de array utilizando una función basada en rangos\n",
    "\n",
    "##### Utilizando secuencias (arrange)\n",
    "Cuando nos referimos a secuencias es definir un mínimo, un máximo y un salto entre cada valor sin incluir el valor máximo. `[mínimo, máximo)`"
   ]
  },
  {
   "cell_type": "code",
   "execution_count": 15,
   "id": "dd75c331-5684-4531-b455-9b1001fe65a0",
   "metadata": {
    "tags": []
   },
   "outputs": [
    {
     "data": {
      "text/plain": [
       "array([ 1. ,  1.5,  2. ,  2.5,  3. ,  3.5,  4. ,  4.5,  5. ,  5.5,  6. ,\n",
       "        6.5,  7. ,  7.5,  8. ,  8.5,  9. ,  9.5, 10. ])"
      ]
     },
     "execution_count": 15,
     "metadata": {},
     "output_type": "execute_result"
    }
   ],
   "source": [
    "# (minimo, maximo, salto)\n",
    "np.arange(1,10.5,0.5)"
   ]
  },
  {
   "cell_type": "markdown",
   "id": "c8295004-972b-4a52-8bf7-b4a7693d75c8",
   "metadata": {},
   "source": [
    "##### Creando separaciones uniformes (linspace)\n",
    "El siguiente código crea un array desde el 0.1 hasta el 1 con 10 elementos separados uniformemente.\n",
    "\n",
    "A diferencia de la función anterior, con esta, podemos determinar el número de elementos que queremos que tenga nuestro array de forma más intuitiva."
   ]
  },
  {
   "cell_type": "code",
   "execution_count": 16,
   "id": "1ded5c5d-d387-49f1-8eef-eebcce087d81",
   "metadata": {
    "tags": []
   },
   "outputs": [
    {
     "data": {
      "text/plain": [
       "array([0.1, 0.2, 0.3, 0.4, 0.5, 0.6, 0.7, 0.8, 0.9, 1. ])"
      ]
     },
     "execution_count": 16,
     "metadata": {},
     "output_type": "execute_result"
    }
   ],
   "source": [
    "# (minimo,maximo, número de elementos del array)\n",
    "np.linspace(0.1, 1, 10)"
   ]
  },
  {
   "cell_type": "markdown",
   "id": "4b948248-af57-459f-b1d1-f29fc9137f5c",
   "metadata": {},
   "source": [
    "#### Creación de array con valores aleatorios (random.rand)\n",
    "Esta función devuelve valores aleatorios entre 0 y 1"
   ]
  },
  {
   "cell_type": "code",
   "execution_count": 17,
   "id": "9e3dd316-819b-4830-9707-ccd3faf5562f",
   "metadata": {
    "tags": []
   },
   "outputs": [
    {
     "data": {
      "text/plain": [
       "array([[0.40598157, 0.46636988, 0.60150068],\n",
       "       [0.03519548, 0.56939431, 0.67345869],\n",
       "       [0.5454765 , 0.00933144, 0.77409705],\n",
       "       [0.34933439, 0.38547127, 0.02075209],\n",
       "       [0.26474894, 0.90618155, 0.3065594 ],\n",
       "       [0.10491997, 0.79849115, 0.49645384],\n",
       "       [0.97725774, 0.01153117, 0.4005656 ]])"
      ]
     },
     "execution_count": 17,
     "metadata": {},
     "output_type": "execute_result"
    }
   ],
   "source": [
    "np.random.rand(7,3)"
   ]
  },
  {
   "cell_type": "markdown",
   "id": "5a8fe9ca-6064-460f-b4ac-dcf7996a9f04",
   "metadata": {},
   "source": [
    "#### Creación de array con valores aleatorios siguiendo una distribución normal (random.randn)\n"
   ]
  },
  {
   "cell_type": "code",
   "execution_count": 18,
   "id": "7412b501-f903-4583-ae04-8f91f9647612",
   "metadata": {
    "tags": []
   },
   "outputs": [
    {
     "data": {
      "text/plain": [
       "array([[-0.17013928, -0.49498843, -0.57324645,  1.58282946],\n",
       "       [-0.17737326, -0.25849309,  0.81136201, -1.59014049],\n",
       "       [ 0.47351659,  0.54365422, -0.50792601, -0.96019609],\n",
       "       [ 0.43376776, -0.77662487,  1.93316991,  0.41792809],\n",
       "       [-0.7730475 , -0.32693573,  1.52707058,  0.75849869],\n",
       "       [ 0.92945264,  1.72457509, -0.36554104, -1.70778733],\n",
       "       [-0.74900009, -0.1483305 ,  0.9011418 ,  0.27631615]])"
      ]
     },
     "execution_count": 18,
     "metadata": {},
     "output_type": "execute_result"
    }
   ],
   "source": [
    "np.random.randn(7,4)"
   ]
  },
  {
   "cell_type": "markdown",
   "id": "8810a343-a7f0-43d5-99fa-5a35abf40d75",
   "metadata": {},
   "source": [
    "### Acceso a los elementos de un array\n",
    "Definimos un array"
   ]
  },
  {
   "cell_type": "markdown",
   "id": "e8a6b682-148e-4eee-be85-9e9f86ac0371",
   "metadata": {},
   "source": [
    "#### Unidimensional"
   ]
  },
  {
   "cell_type": "code",
   "execution_count": 19,
   "id": "bdf2f552-5a96-4faa-af7f-93b352347390",
   "metadata": {
    "tags": []
   },
   "outputs": [
    {
     "name": "stdout",
     "output_type": "stream",
     "text": [
      "[0.22769738 0.56350163 0.61086378 0.99357609 0.10221443 0.94275882]\n",
      "Dimensiones 1\n",
      "Longitud de sus dimensiones (6,)\n",
      "Tipo de datos float64\n"
     ]
    }
   ],
   "source": [
    "array_01 = np.random.rand(6)\n",
    "print(array_01)\n",
    "print(f'Dimensiones {array_01.ndim}')\n",
    "print(f'Longitud de sus dimensiones {array_01.shape}')\n",
    "print(f'Tipo de datos {array_01.dtype}')"
   ]
  },
  {
   "cell_type": "code",
   "execution_count": 20,
   "id": "1ac60a90-6eb0-42c5-99eb-80bd7575c58c",
   "metadata": {
    "tags": []
   },
   "outputs": [
    {
     "data": {
      "text/plain": [
       "0.5635016251387636"
      ]
     },
     "execution_count": 20,
     "metadata": {},
     "output_type": "execute_result"
    }
   ],
   "source": [
    "# Acceso al elemento 1\n",
    "array_01[1]"
   ]
  },
  {
   "cell_type": "code",
   "execution_count": 21,
   "id": "77f21540-6754-4963-b1d0-afc37f3e178f",
   "metadata": {
    "tags": []
   },
   "outputs": [
    {
     "data": {
      "text/plain": [
       "array([0.61086378, 0.99357609, 0.10221443])"
      ]
     },
     "execution_count": 21,
     "metadata": {},
     "output_type": "execute_result"
    }
   ],
   "source": [
    "# Acceso a un conjunto de elementos, desde el 2 al 5\n",
    "array_01[2:5]"
   ]
  },
  {
   "cell_type": "code",
   "execution_count": 22,
   "id": "dbaa7759-3c61-4cf9-af03-94a8ef2b1916",
   "metadata": {
    "tags": []
   },
   "outputs": [
    {
     "data": {
      "text/plain": [
       "array([0.22769738, 0.99357609])"
      ]
     },
     "execution_count": 22,
     "metadata": {},
     "output_type": "execute_result"
    }
   ],
   "source": [
    "# Acceso a elementos salteados definiendo el salto\n",
    "array_01[0::3] # Muestra los elementos 0 y 4"
   ]
  },
  {
   "cell_type": "markdown",
   "id": "41045291-b073-470a-a72e-63ebc578c91f",
   "metadata": {},
   "source": [
    "#### Multidimensional"
   ]
  },
  {
   "cell_type": "code",
   "execution_count": 23,
   "id": "5b867b73-1cc8-45a5-92fd-d8efbe82828e",
   "metadata": {
    "tags": []
   },
   "outputs": [
    {
     "name": "stdout",
     "output_type": "stream",
     "text": [
      "[[ 2  4  6  8]\n",
      " [10 12 14 16]]\n",
      "Dimensiones 2\n",
      "Longitud de sus dimensiones (2, 4)\n",
      "Tipo de datos int64\n"
     ]
    }
   ],
   "source": [
    "array_02 = np.array([[2,4,6,8],[10,12,14,16]])\n",
    "print(array_02)\n",
    "print(f'Dimensiones {array_02.ndim}')\n",
    "print(f'Longitud de sus dimensiones {array_02.shape}')\n",
    "print(f'Tipo de datos {array_02.dtype}')"
   ]
  },
  {
   "cell_type": "code",
   "execution_count": 24,
   "id": "f7df6836-f03a-4701-9acf-33a3e84ace95",
   "metadata": {
    "tags": []
   },
   "outputs": [
    {
     "data": {
      "text/plain": [
       "10"
      ]
     },
     "execution_count": 24,
     "metadata": {},
     "output_type": "execute_result"
    }
   ],
   "source": [
    "# Acceso al elemento 5 del array\n",
    "array_02[1,0]"
   ]
  },
  {
   "cell_type": "code",
   "execution_count": 25,
   "id": "aab4d135-3a64-4c60-a580-377c4125e385",
   "metadata": {
    "tags": []
   },
   "outputs": [
    {
     "data": {
      "text/plain": [
       "array([2, 4, 6, 8])"
      ]
     },
     "execution_count": 25,
     "metadata": {},
     "output_type": "execute_result"
    }
   ],
   "source": [
    "# Acceso a la primera fila del array\n",
    "array_02[0, :]"
   ]
  },
  {
   "cell_type": "code",
   "execution_count": 26,
   "id": "ed637d64-d195-41db-bb01-1d21761be2d0",
   "metadata": {
    "tags": []
   },
   "outputs": [
    {
     "data": {
      "text/plain": [
       "array([10, 12, 14, 16])"
      ]
     },
     "execution_count": 26,
     "metadata": {},
     "output_type": "execute_result"
    }
   ],
   "source": [
    "# Acceso a la segunda fila del array\n",
    "array_02[1, :]"
   ]
  },
  {
   "cell_type": "code",
   "execution_count": 27,
   "id": "dbaf3f47-0502-4752-8f0d-d331d95c0a7b",
   "metadata": {
    "tags": []
   },
   "outputs": [
    {
     "data": {
      "text/plain": [
       "array([ 4, 12])"
      ]
     },
     "execution_count": 27,
     "metadata": {},
     "output_type": "execute_result"
    }
   ],
   "source": [
    "# Acceso al segundo elemento de las dos primeras filas del array\n",
    "array_02[:, 1]"
   ]
  },
  {
   "cell_type": "markdown",
   "id": "d5f1e567-a447-4434-aede-c7c20fad651c",
   "metadata": {},
   "source": [
    "### Modificar un Array"
   ]
  },
  {
   "cell_type": "markdown",
   "id": "329ffd8b-a913-46ae-80a5-346fd1caa748",
   "metadata": {},
   "source": [
    "Para poder trabajar con NumPy, es necesario saber cómo podemos modificar un array. Un array es mutable, lo que significa que podemos modificarlo en tiempo de ejecución. Para entender cómo modificar un array, mostraremos una serie de ejemplos. En síntesis, cuando hablamos de modificar un array, nos referimos a cambiar sus dimensiones o su contenido, con todos los pormenores que estas acciones puedan tener."
   ]
  },
  {
   "cell_type": "code",
   "execution_count": 28,
   "id": "6fb7cf91-4ba1-4976-80e0-e406c15e4523",
   "metadata": {},
   "outputs": [
    {
     "data": {
      "text/plain": [
       "array([ 0,  1,  2,  3,  4,  5,  6,  7,  8,  9, 10, 11, 12, 13, 14, 15, 16,\n",
       "       17, 18, 19, 20, 21, 22, 23])"
      ]
     },
     "execution_count": 28,
     "metadata": {},
     "output_type": "execute_result"
    }
   ],
   "source": [
    "# Array unidimensional\n",
    "array_uni = np.arange(24) # Crea un vector desde 0 hasta 24\n",
    "array_uni"
   ]
  },
  {
   "cell_type": "markdown",
   "id": "52ca1056-702a-40df-8fa9-f00eb44611a9",
   "metadata": {},
   "source": [
    "#### Modificar contenido y dimensiones"
   ]
  },
  {
   "cell_type": "markdown",
   "id": "a44b651f-2126-4507-b825-c84bd4c9d43d",
   "metadata": {},
   "source": [
    "Anteriormente, al hablar de las dimensiones de un array, vimos que hacíamos referencia al atributo 'shape'. Para modificar las dimensiones de un array, tenemos que aplicar este método sobre el vector que queremos modificar y asignarle el nuevo valor que deseamos."
   ]
  },
  {
   "cell_type": "code",
   "execution_count": 29,
   "id": "dc2ebc0e-13fc-4179-8a6b-9da87fcd8a67",
   "metadata": {},
   "outputs": [
    {
     "data": {
      "text/plain": [
       "array([[ 0,  1,  2,  3],\n",
       "       [ 4,  5,  6,  7],\n",
       "       [ 8,  9, 10, 11],\n",
       "       [12, 13, 14, 15],\n",
       "       [16, 17, 18, 19],\n",
       "       [20, 21, 22, 23]])"
      ]
     },
     "execution_count": 29,
     "metadata": {},
     "output_type": "execute_result"
    }
   ],
   "source": [
    "array_uni.shape = (6, 4)\n",
    "array_uni"
   ]
  },
  {
   "cell_type": "markdown",
   "id": "9927b23d-ffbd-4f93-b72a-8be15d1daa00",
   "metadata": {},
   "source": [
    "La ejecución anterior devuelve un array que apunta a los mismos datos de array_uni original. Para ver cuál es la naturaleza de asignar un array a uno nuevo y los efectos que tiene modificar cualquiera de los arrays, veamos los siguientes ejemplos:\n",
    "1. Generamos un array a partir de otro previamente creado pero con sus dimensiones modificadas. El método `reshape` nos permite modificar las dimensiones de un array directamente, sin necesidad de realizar una asignación como sucedia con `shape`."
   ]
  },
  {
   "cell_type": "code",
   "execution_count": 30,
   "id": "b703103c-05e8-427c-ab79-e08d60833322",
   "metadata": {},
   "outputs": [
    {
     "data": {
      "text/plain": [
       "array([[ 0,  1,  2,  3,  4,  5],\n",
       "       [ 6,  7,  8,  9, 10, 11],\n",
       "       [12, 13, 14, 15, 16, 17],\n",
       "       [18, 19, 20, 21, 22, 23]])"
      ]
     },
     "execution_count": 30,
     "metadata": {},
     "output_type": "execute_result"
    }
   ],
   "source": [
    "array_multi = array_uni.reshape(4,6)\n",
    "array_multi"
   ]
  },
  {
   "cell_type": "markdown",
   "id": "30cd9e7a-61ab-4e11-8142-b5d06a2efb15",
   "metadata": {},
   "source": [
    "2. Modificamos el nuevo array `array_uni_02`"
   ]
  },
  {
   "cell_type": "code",
   "execution_count": 31,
   "id": "f22d6500-f2c4-4a9f-b4df-635c27052505",
   "metadata": {},
   "outputs": [
    {
     "data": {
      "text/plain": [
       "array([[  0,   1,   2,   3,   4,   5],\n",
       "       [  6,   7,   8,   9,  10,  11],\n",
       "       [ 12,  13,  14,  15,  16,  17],\n",
       "       [ 18,  19,  20,  21, 978,  23]])"
      ]
     },
     "execution_count": 31,
     "metadata": {},
     "output_type": "execute_result"
    }
   ],
   "source": [
    "array_multi[3,4] = 978\n",
    "array_multi"
   ]
  },
  {
   "cell_type": "markdown",
   "id": "aee883e5-71f3-43bc-b73c-56bf48bb98d9",
   "metadata": {},
   "source": [
    "Si hemos modificado `array_uni_02` y este fue resultado de una asignación a un array previo pero con dimensiones nuevas, podriamos esperar que `array_uni` no sufriera modificaciones. Vamos a verificarlo:\n",
    "3. Verificamos contenido del array original `array_uni`"
   ]
  },
  {
   "cell_type": "code",
   "execution_count": 32,
   "id": "d5be3c23-96a1-45e6-850e-ef34ae87850e",
   "metadata": {},
   "outputs": [
    {
     "data": {
      "text/plain": [
       "array([[  0,   1,   2,   3],\n",
       "       [  4,   5,   6,   7],\n",
       "       [  8,   9,  10,  11],\n",
       "       [ 12,  13,  14,  15],\n",
       "       [ 16,  17,  18,  19],\n",
       "       [ 20,  21, 978,  23]])"
      ]
     },
     "execution_count": 32,
     "metadata": {},
     "output_type": "execute_result"
    }
   ],
   "source": [
    "array_uni"
   ]
  },
  {
   "cell_type": "markdown",
   "id": "1aa1f2b1-b9ce-4529-9c87-6ee4ec1e3018",
   "metadata": {},
   "source": [
    "Como se observa, modificar un array tendrá como consecuencia modificar todas las dependencias que hayan surgido de él.Para terminar con esta sección veremos como podemos 'desenvolver el array de dos dimensiones para devolverlo a su estado original."
   ]
  },
  {
   "cell_type": "code",
   "execution_count": 33,
   "id": "bdd87f58-67ae-4f5f-a4d8-b9330dece122",
   "metadata": {},
   "outputs": [
    {
     "data": {
      "text/plain": [
       "array([  0,   1,   2,   3,   4,   5,   6,   7,   8,   9,  10,  11,  12,\n",
       "        13,  14,  15,  16,  17,  18,  19,  20,  21, 978,  23])"
      ]
     },
     "execution_count": 33,
     "metadata": {},
     "output_type": "execute_result"
    }
   ],
   "source": [
    "array_multi.ravel()"
   ]
  },
  {
   "cell_type": "markdown",
   "id": "f41bc579-9095-447b-b96c-975feb03498e",
   "metadata": {},
   "source": [
    "### Broadcasting"
   ]
  },
  {
   "cell_type": "markdown",
   "id": "20f0d601-e3b7-4dc0-9d33-02c8cc3ba111",
   "metadata": {},
   "source": [
    "El broadcasting es la propiedad que aplica NumPy para realizar operaciones entre vectores que no tienen exactamente la misma forma. Veamos como funciona.\n",
    "1. Creamos arrays con diferentes tamaños"
   ]
  },
  {
   "cell_type": "code",
   "execution_count": 34,
   "id": "a87f21f3-c0e3-4f59-a274-a2c6c144c24c",
   "metadata": {},
   "outputs": [
    {
     "name": "stdout",
     "output_type": "stream",
     "text": [
      "[ 1  2  3  4  5  6  7  8  9 10]\n",
      "Longitud de dimensiones v_01 = (10,)\n"
     ]
    }
   ],
   "source": [
    "v_01 = np.arange(1,11)\n",
    "print(v_01)\n",
    "print(f'Longitud de dimensiones v_01 = {v_01.shape}')"
   ]
  },
  {
   "cell_type": "code",
   "execution_count": 35,
   "id": "cdd9c137-29f4-45f3-bf79-720039d78c6c",
   "metadata": {},
   "outputs": [
    {
     "name": "stdout",
     "output_type": "stream",
     "text": [
      "[2]\n",
      "Longitud de dimensiones v_02 = (1,)\n"
     ]
    }
   ],
   "source": [
    "v_02 = np.array([2])\n",
    "print(v_02)\n",
    "print(f'Longitud de dimensiones v_02 = {v_02.shape}')"
   ]
  },
  {
   "cell_type": "markdown",
   "id": "cb7e1379-700c-45bf-bd1f-6114c22f9481",
   "metadata": {},
   "source": [
    "2. Intentamos realizar una operación básica entre ellos"
   ]
  },
  {
   "cell_type": "code",
   "execution_count": 36,
   "id": "f94f57b9-2399-4242-88f3-3d944f9ebd46",
   "metadata": {},
   "outputs": [
    {
     "data": {
      "text/plain": [
       "array([ 3,  4,  5,  6,  7,  8,  9, 10, 11, 12])"
      ]
     },
     "execution_count": 36,
     "metadata": {},
     "output_type": "execute_result"
    }
   ],
   "source": [
    "v_01 + v_02"
   ]
  },
  {
   "cell_type": "markdown",
   "id": "a2db2d90-5c18-4368-9612-45db5e9b405f",
   "metadata": {},
   "source": [
    "Lo que hace el `broadcasting` es tomar el elemento de `v_02` y sumarlo con cada uno de los elementos de `v_01`. Si intentamos realizar una operación parecida pero con un vector de longitud de dimensión diferente a 1, obtendremos lo siguiente:"
   ]
  },
  {
   "cell_type": "code",
   "execution_count": 37,
   "id": "e6ce1997-1ab6-43bf-972c-f758f076b055",
   "metadata": {},
   "outputs": [
    {
     "name": "stdout",
     "output_type": "stream",
     "text": [
      "[0.37572851 0.94486263 0.45778163]\n",
      "Longitud de dimensiones v_03 = (3,)\n"
     ]
    }
   ],
   "source": [
    "v_03 = np.random.rand(3)\n",
    "print(v_03)\n",
    "print(f'Longitud de dimensiones v_03 = {v_03.shape}')"
   ]
  },
  {
   "cell_type": "code",
   "execution_count": 38,
   "id": "98dac0b7-8839-4449-99bb-9190a7d18ce5",
   "metadata": {},
   "outputs": [
    {
     "ename": "ValueError",
     "evalue": "operands could not be broadcast together with shapes (10,) (3,) ",
     "output_type": "error",
     "traceback": [
      "\u001b[0;31m---------------------------------------------------------------------------\u001b[0m",
      "\u001b[0;31mValueError\u001b[0m                                Traceback (most recent call last)",
      "Cell \u001b[0;32mIn[38], line 1\u001b[0m\n\u001b[0;32m----> 1\u001b[0m \u001b[43mv_01\u001b[49m\u001b[43m \u001b[49m\u001b[38;5;241;43m+\u001b[39;49m\u001b[43m \u001b[49m\u001b[43mv_03\u001b[49m\n",
      "\u001b[0;31mValueError\u001b[0m: operands could not be broadcast together with shapes (10,) (3,) "
     ]
    }
   ],
   "source": [
    "v_01 + v_03"
   ]
  },
  {
   "cell_type": "markdown",
   "id": "17f2c187-50e8-4f64-92ca-e87ff68c5749",
   "metadata": {},
   "source": [
    "> No podemos aplicar broadcasting con un array unidimensional con `shape` diferente a 1"
   ]
  },
  {
   "cell_type": "markdown",
   "id": "869fb6c1-1ee2-4c0c-9a04-4e610ed9ee31",
   "metadata": {},
   "source": [
    "La última nota se podría haber deducido, si tenemos un array de dos elementos y queremos aplicar `broadcasting` con él resultaría en una ambiguedad pues no es claro que elemento debería tomar para realizar la operación solicitada"
   ]
  },
  {
   "cell_type": "markdown",
   "id": "6257e041-fc54-4ec6-9e65-d99f3b3091e1",
   "metadata": {},
   "source": [
    "#### Broadcasting multidimensional\n",
    "Veamos como se aplica el `broadcasting`para arrays de diferentes dimensiones"
   ]
  },
  {
   "cell_type": "code",
   "execution_count": 39,
   "id": "3db43962-1f08-402b-81ae-d0844468692f",
   "metadata": {},
   "outputs": [
    {
     "name": "stdout",
     "output_type": "stream",
     "text": [
      "[[ 0  1  2]\n",
      " [ 3  4  5]\n",
      " [ 6  7  8]\n",
      " [ 9 10 11]]\n"
     ]
    }
   ],
   "source": [
    "a_multi = np.arange(12).reshape(4,3)\n",
    "print(a_multi)"
   ]
  },
  {
   "cell_type": "code",
   "execution_count": 40,
   "id": "98528ede-eb0c-4b79-9356-f5621c4d4a24",
   "metadata": {},
   "outputs": [
    {
     "name": "stdout",
     "output_type": "stream",
     "text": [
      "[0.  2.5 5. ]\n"
     ]
    }
   ],
   "source": [
    "b_multi = np.linspace(0,5,3)\n",
    "print(b_multi)"
   ]
  },
  {
   "cell_type": "code",
   "execution_count": 41,
   "id": "b8a07874-0701-4ee9-88b3-be847f6d8322",
   "metadata": {
    "scrolled": true
   },
   "outputs": [
    {
     "data": {
      "text/plain": [
       "array([[ 0. ,  3.5,  7. ],\n",
       "       [ 3. ,  6.5, 10. ],\n",
       "       [ 6. ,  9.5, 13. ],\n",
       "       [ 9. , 12.5, 16. ]])"
      ]
     },
     "execution_count": 41,
     "metadata": {},
     "output_type": "execute_result"
    }
   ],
   "source": [
    "a_multi + b_multi"
   ]
  },
  {
   "cell_type": "markdown",
   "id": "aff3468f-321f-4a21-96f4-8f1e48abface",
   "metadata": {},
   "source": [
    "### Funciones Estadísticas\n",
    "NumPy provee de diferentes funciones estadísticas de forma nativa que permite trabajar eficientemente en el análisis de datos para realizar analísis exploratorio de nuestros datos."
   ]
  },
  {
   "cell_type": "code",
   "execution_count": 47,
   "id": "da5730f8-ff3c-483f-a8fe-0fdbb223218d",
   "metadata": {},
   "outputs": [
    {
     "name": "stdout",
     "output_type": "stream",
     "text": [
      "[0.89527988 0.95153367 0.22271011 0.34400177 0.73726431 0.10626075\n",
      " 0.81006813 0.25151976 0.03655377 0.6912381  0.96500832 0.12307108\n",
      " 0.01149884 0.66363741 0.86611998 0.44105341 0.14484221 0.42412831\n",
      " 0.45663429 0.5247944  0.99470981 0.86043949 0.62276755 0.36382284\n",
      " 0.78228312]\n"
     ]
    }
   ],
   "source": [
    "rnd_array = np.random.rand(25)\n",
    "print(rnd_array)"
   ]
  },
  {
   "cell_type": "markdown",
   "id": "99c3b418-3287-4f97-8f54-c0d586498336",
   "metadata": {},
   "source": [
    "##### Media del array"
   ]
  },
  {
   "cell_type": "code",
   "execution_count": 48,
   "id": "681f29a1-e637-49a1-b3f3-5262ccc8ed41",
   "metadata": {},
   "outputs": [
    {
     "data": {
      "text/plain": [
       "0.5316496531582351"
      ]
     },
     "execution_count": 48,
     "metadata": {},
     "output_type": "execute_result"
    }
   ],
   "source": [
    "rnd_array.mean()"
   ]
  },
  {
   "cell_type": "code",
   "execution_count": 49,
   "id": "a325bb1a-0394-4cbb-89d2-440b02d18c42",
   "metadata": {},
   "outputs": [
    {
     "data": {
      "text/plain": [
       "13.291241328955877"
      ]
     },
     "execution_count": 49,
     "metadata": {},
     "output_type": "execute_result"
    }
   ],
   "source": [
    "rnd_array.sum()"
   ]
  },
  {
   "cell_type": "code",
   "execution_count": 50,
   "id": "bcebcb2b-e7f5-43e1-95ce-13a517f33dcf",
   "metadata": {},
   "outputs": [
    {
     "data": {
      "text/plain": [
       "['T',\n",
       " '__abs__',\n",
       " '__add__',\n",
       " '__and__',\n",
       " '__array__',\n",
       " '__array_finalize__',\n",
       " '__array_function__',\n",
       " '__array_interface__',\n",
       " '__array_prepare__',\n",
       " '__array_priority__',\n",
       " '__array_struct__',\n",
       " '__array_ufunc__',\n",
       " '__array_wrap__',\n",
       " '__bool__',\n",
       " '__class__',\n",
       " '__class_getitem__',\n",
       " '__complex__',\n",
       " '__contains__',\n",
       " '__copy__',\n",
       " '__deepcopy__',\n",
       " '__delattr__',\n",
       " '__delitem__',\n",
       " '__dir__',\n",
       " '__divmod__',\n",
       " '__dlpack__',\n",
       " '__dlpack_device__',\n",
       " '__doc__',\n",
       " '__eq__',\n",
       " '__float__',\n",
       " '__floordiv__',\n",
       " '__format__',\n",
       " '__ge__',\n",
       " '__getattribute__',\n",
       " '__getitem__',\n",
       " '__gt__',\n",
       " '__hash__',\n",
       " '__iadd__',\n",
       " '__iand__',\n",
       " '__ifloordiv__',\n",
       " '__ilshift__',\n",
       " '__imatmul__',\n",
       " '__imod__',\n",
       " '__imul__',\n",
       " '__index__',\n",
       " '__init__',\n",
       " '__init_subclass__',\n",
       " '__int__',\n",
       " '__invert__',\n",
       " '__ior__',\n",
       " '__ipow__',\n",
       " '__irshift__',\n",
       " '__isub__',\n",
       " '__iter__',\n",
       " '__itruediv__',\n",
       " '__ixor__',\n",
       " '__le__',\n",
       " '__len__',\n",
       " '__lshift__',\n",
       " '__lt__',\n",
       " '__matmul__',\n",
       " '__mod__',\n",
       " '__mul__',\n",
       " '__ne__',\n",
       " '__neg__',\n",
       " '__new__',\n",
       " '__or__',\n",
       " '__pos__',\n",
       " '__pow__',\n",
       " '__radd__',\n",
       " '__rand__',\n",
       " '__rdivmod__',\n",
       " '__reduce__',\n",
       " '__reduce_ex__',\n",
       " '__repr__',\n",
       " '__rfloordiv__',\n",
       " '__rlshift__',\n",
       " '__rmatmul__',\n",
       " '__rmod__',\n",
       " '__rmul__',\n",
       " '__ror__',\n",
       " '__rpow__',\n",
       " '__rrshift__',\n",
       " '__rshift__',\n",
       " '__rsub__',\n",
       " '__rtruediv__',\n",
       " '__rxor__',\n",
       " '__setattr__',\n",
       " '__setitem__',\n",
       " '__setstate__',\n",
       " '__sizeof__',\n",
       " '__str__',\n",
       " '__sub__',\n",
       " '__subclasshook__',\n",
       " '__truediv__',\n",
       " '__xor__',\n",
       " 'all',\n",
       " 'any',\n",
       " 'argmax',\n",
       " 'argmin',\n",
       " 'argpartition',\n",
       " 'argsort',\n",
       " 'astype',\n",
       " 'base',\n",
       " 'byteswap',\n",
       " 'choose',\n",
       " 'clip',\n",
       " 'compress',\n",
       " 'conj',\n",
       " 'conjugate',\n",
       " 'copy',\n",
       " 'ctypes',\n",
       " 'cumprod',\n",
       " 'cumsum',\n",
       " 'data',\n",
       " 'diagonal',\n",
       " 'dot',\n",
       " 'dtype',\n",
       " 'dump',\n",
       " 'dumps',\n",
       " 'fill',\n",
       " 'flags',\n",
       " 'flat',\n",
       " 'flatten',\n",
       " 'getfield',\n",
       " 'imag',\n",
       " 'item',\n",
       " 'itemset',\n",
       " 'itemsize',\n",
       " 'max',\n",
       " 'mean',\n",
       " 'min',\n",
       " 'nbytes',\n",
       " 'ndim',\n",
       " 'newbyteorder',\n",
       " 'nonzero',\n",
       " 'partition',\n",
       " 'prod',\n",
       " 'ptp',\n",
       " 'put',\n",
       " 'ravel',\n",
       " 'real',\n",
       " 'repeat',\n",
       " 'reshape',\n",
       " 'resize',\n",
       " 'round',\n",
       " 'searchsorted',\n",
       " 'setfield',\n",
       " 'setflags',\n",
       " 'shape',\n",
       " 'size',\n",
       " 'sort',\n",
       " 'squeeze',\n",
       " 'std',\n",
       " 'strides',\n",
       " 'sum',\n",
       " 'swapaxes',\n",
       " 'take',\n",
       " 'tobytes',\n",
       " 'tofile',\n",
       " 'tolist',\n",
       " 'tostring',\n",
       " 'trace',\n",
       " 'transpose',\n",
       " 'var',\n",
       " 'view']"
      ]
     },
     "execution_count": 50,
     "metadata": {},
     "output_type": "execute_result"
    }
   ],
   "source": [
    "dir(rnd_array)"
   ]
  },
  {
   "cell_type": "markdown",
   "id": "ec3fc8ed-18c6-4d1a-8846-5459d79c7049",
   "metadata": {},
   "source": [
    "### Universal functiones\n",
    "Son funciones que realizan operaciones básicas sobre un array"
   ]
  },
  {
   "cell_type": "code",
   "execution_count": 51,
   "id": "b92e1ea9-4360-4669-87af-2d936b59a3ab",
   "metadata": {},
   "outputs": [
    {
     "data": {
      "text/plain": [
       "array([8.01526060e-01, 9.05416321e-01, 4.95997920e-02, 1.18337214e-01,\n",
       "       5.43558656e-01, 1.12913480e-02, 6.56210380e-01, 6.32621919e-02,\n",
       "       1.33617823e-03, 4.77810116e-01, 9.31241067e-01, 1.51464900e-02,\n",
       "       1.32223240e-04, 4.40414616e-01, 7.50163825e-01, 1.94528112e-01,\n",
       "       2.09792671e-02, 1.79884823e-01, 2.08514876e-01, 2.75409165e-01,\n",
       "       9.89447607e-01, 7.40356120e-01, 3.87839422e-01, 1.32367057e-01,\n",
       "       6.11966885e-01])"
      ]
     },
     "execution_count": 51,
     "metadata": {},
     "output_type": "execute_result"
    }
   ],
   "source": [
    "np.square(rnd_array)"
   ]
  },
  {
   "cell_type": "code",
   "execution_count": 54,
   "id": "0f7e9168-54bb-4216-be10-df94113d1925",
   "metadata": {},
   "outputs": [
    {
     "data": {
      "text/plain": [
       "array([0.9461923 , 0.97546587, 0.47192172, 0.58651664, 0.85864096,\n",
       "       0.32597662, 0.90003785, 0.50151746, 0.19119041, 0.8314073 ,\n",
       "       0.98234837, 0.35081488, 0.10723263, 0.81463944, 0.93065567,\n",
       "       0.66411852, 0.38058142, 0.65125134, 0.67574721, 0.72442695,\n",
       "       0.9973514 , 0.92759878, 0.78915623, 0.60317729, 0.88446771])"
      ]
     },
     "execution_count": 54,
     "metadata": {},
     "output_type": "execute_result"
    }
   ],
   "source": [
    "np.sqrt(rnd_array)"
   ]
  },
  {
   "cell_type": "code",
   "execution_count": 55,
   "id": "2729d11a-0b06-4627-87e5-b6ecfb869361",
   "metadata": {},
   "outputs": [
    {
     "data": {
      "text/plain": [
       "array([2.44802084, 2.58967832, 1.24945831, 1.41058113, 2.09020951,\n",
       "       1.11211183, 2.24806115, 1.28597832, 1.03723008, 1.99618549,\n",
       "       2.62480951, 1.1309648 , 1.0115652 , 1.94184279, 2.37766754,\n",
       "       1.55434372, 1.15585718, 1.52825767, 1.57875141, 1.69011133,\n",
       "       2.70393957, 2.36419951, 1.86407984, 1.43881929, 2.18645853])"
      ]
     },
     "execution_count": 55,
     "metadata": {},
     "output_type": "execute_result"
    }
   ],
   "source": [
    "np.exp(rnd_array)"
   ]
  },
  {
   "cell_type": "code",
   "execution_count": 56,
   "id": "1abd5a08-6e41-43da-8002-b9b340d943b7",
   "metadata": {},
   "outputs": [
    {
     "data": {
      "text/plain": [
       "array([-0.1106189 , -0.04968021, -1.50188432, -1.06710849, -0.30480883,\n",
       "       -2.24185926, -0.21063692, -1.38023371, -3.3089709 , -0.36927094,\n",
       "       -0.03561855, -2.09499323, -4.46550943, -0.41001934, -0.14373183,\n",
       "       -0.8185893 , -1.9321103 , -0.85771925, -0.78387245, -0.64474871,\n",
       "       -0.00530423, -0.15031198, -0.47358194, -1.01108824, -0.24553855])"
      ]
     },
     "execution_count": 56,
     "metadata": {},
     "output_type": "execute_result"
    }
   ],
   "source": [
    "np.log(rnd_array)"
   ]
  }
 ],
 "metadata": {
  "kernelspec": {
   "display_name": "Python 3 (ipykernel)",
   "language": "python",
   "name": "python3"
  },
  "language_info": {
   "codemirror_mode": {
    "name": "ipython",
    "version": 3
   },
   "file_extension": ".py",
   "mimetype": "text/x-python",
   "name": "python",
   "nbconvert_exporter": "python",
   "pygments_lexer": "ipython3",
   "version": "3.10.13"
  }
 },
 "nbformat": 4,
 "nbformat_minor": 5
}
