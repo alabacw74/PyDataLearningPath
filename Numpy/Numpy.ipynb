{
 "cells": [
  {
   "cell_type": "markdown",
   "id": "de88df9d",
   "metadata": {},
   "source": [
    "# Introducción a NumPy"
   ]
  },
  {
   "cell_type": "markdown",
   "id": "20cba099",
   "metadata": {},
   "source": [
    "## ¿Qué es NumPy?"
   ]
  },
  {
   "cell_type": "markdown",
   "id": "df624e94",
   "metadata": {},
   "source": [
    "### Palabras Clave\n",
    "\n",
    "* Paquete\n",
    "* Matriz multidimensional\n",
    "* Operaciones rápidas entre matrices\n",
    "* Objeto ndarray\n",
    "* Datos homogéneos\n",
    "* Ejecución de código compilado."
   ]
  },
  {
   "cell_type": "markdown",
   "id": "42b09d18",
   "metadata": {},
   "source": [
    "Si nos dirigimos a la documentación oficial de [Numpy](https://numpy.org/doc/stable/user/whatisnumpy.html), podemos decir, en resumen, que es una herramienta útil cuando deseamos realizar operaciones con matrices. Su potencial se muestra al trabajar con matrices de tamaños cada vez más grandes, ya que ejecuta código compilado para realizar las operaciones sin la necesidad de salir de Python.\n",
    "\n",
    "Es importante destacar que los objetos ndarray deben ser de **datos homogéneos**, mencionándolo para evitar errores de ejecución."
   ]
  },
  {
   "cell_type": "markdown",
   "id": "64856958",
   "metadata": {},
   "source": [
    "## Diferencias entre el úso de NumPy y las secuencias estándar de Python"
   ]
  },
  {
   "cell_type": "markdown",
   "id": "d490b0ee",
   "metadata": {},
   "source": [
    "|Numpy|Python|\n",
    "|:--------------------------------------:|:-------------------------:|\n",
    "|Tamaño fijo en el momento de su creación|Pueden crecer dinámicamente|\n",
    "|Los elementos deben ser homogéneos|Permite multples datos|\n",
    "|Facilidad en operaciones matemáticas avanzadas y procesamiento de grandes conjuntos de datos|Requiere implementar las operaciones además de la reducción en el rendimiento|\n",
    "|Compatibilidad con la mayoría del software científico/matemático basado en Python| **Saber cómo usar los tipos de secuencia integrados de Python es insuficiente**|"
   ]
  },
  {
   "cell_type": "markdown",
   "id": "63aa194e",
   "metadata": {},
   "source": [
    "> Cambiar el tamaño de un *ndarray* creará una nueva matrz y eliminará el original.\n",
    "\n",
    "> Es posible crear una matriz de objetos en NumPy permitiendo una mayor flexibilidad. Con la consecuencia de perder rendimiento y la capacidad de aprovechar las implementaciones más eficientes que ofrece el paquete.\n",
    "\n",
    "> NumPy nos ofrece lo mejor de ambos mundos. Se ejecuta a velocidades cercanas a C, pero con la simplicidad del código que esperamos de algo basado en Python."
   ]
  },
  {
   "cell_type": "markdown",
   "id": "faa2657e",
   "metadata": {},
   "source": [
    "## ¿Por qué utilizar NumPy?"
   ]
  },
  {
   "cell_type": "markdown",
   "id": "ef98f683",
   "metadata": {},
   "source": [
    "Pienso que la principal razón para utilizar NumPy es por su escalabilidad a paquetes basados en Python. Si deseamos utilizar Python como lenguaje de programación enfocado en aplicaciones cientificas de cualquier área NumPy es el estandar, tal es así que en la misma documentación refieren que la mayoria de las paqueterias que se implementan para Python requieren como base un arreglo de Numpy. El punto anterior es el fundamento de la necesidad de aprender a utilizarlo, como segundo punto esta el tiempo. Si nos enfocamos en el análisis de datos, encontraremos con frecuencia conjuntos de datos que superan el millon de datos, por ello es necesario tener una forma eficiente de preparar, procesar y analizar nuestros datos sin tener que sacrificar la facilidad en la codificación, esto es algo que logra el paquete Numpy gracias a las siguientes caracteristicas:\n",
    "\n",
    "* Vectorización: Permite realizar operaciones en arreglos completos en lugar de iterar sobre elementos individualmente.\n",
    "* Operaciones en C optimizadas: La implementación de las operaciones que realiza se implementan en C, provocando que se manipulen los datos a un nivel de abstracción más bajo.\n",
    "* Radiodifusión: Permite realizar operaciones entre arreglos de diferentes formas y tamaños de manera automática y eficiente."
   ]
  },
  {
   "cell_type": "markdown",
   "id": "770e903d",
   "metadata": {},
   "source": [
    "## ¿Cómo empezar a utilizar NumPy?"
   ]
  },
  {
   "cell_type": "markdown",
   "id": "4f3339a7",
   "metadata": {},
   "source": [
    "Lo primero que se debe hacer para utilizar NumPy es instalar la libreria utilizando:\n",
    "\n",
    "```\n",
    "pip install numpy\n",
    "\n",
    "```\n",
    "Después es necesario importar la biblioteca en nuestro script"
   ]
  },
  {
   "cell_type": "code",
   "execution_count": 1,
   "id": "68325a7d",
   "metadata": {},
   "outputs": [],
   "source": [
    "# Importación de numpy con alias\n",
    "import numpy as np"
   ]
  },
  {
   "cell_type": "markdown",
   "id": "9c4b864d",
   "metadata": {},
   "source": [
    "Si la estructura básica para utilizar NumPy es un array entonces debemos saber como crearlos o inicializarlos, antes de poder pensar en operarlos."
   ]
  },
  {
   "cell_type": "markdown",
   "id": "5a28804d",
   "metadata": {},
   "source": [
    "### Atributos básicos de la clase ndarray"
   ]
  },
  {
   "cell_type": "markdown",
   "id": "779bafb7",
   "metadata": {},
   "source": [
    "- `ndarray.ndim`: El número de ejes (dimensiones) del array\n",
    "- `ndarray.shape`: Es una tupla de números enteros que indica la longitud  de cada dimensión.*(filas, columnas)*\n",
    "- `ndarray.size`: El número total de elementos del array, es igual a multiplicar los elementos de la tupla devuelta por `shape`.\n",
    "- `ndarray.dtype`: Devuelve una descripción del tipo de elementos que existen dentro del array. NumPy proporciona algunos tipos adicionales, por ejemplo, `numpy.int32`, `numpy.int16` o `numpy.float64`."
   ]
  },
  {
   "cell_type": "markdown",
   "id": "619c4511",
   "metadata": {},
   "source": [
    "### Creación de un array\n",
    "#### Desde una lista de Python"
   ]
  },
  {
   "cell_type": "code",
   "execution_count": 2,
   "id": "cf0d265f",
   "metadata": {},
   "outputs": [
    {
     "name": "stdout",
     "output_type": "stream",
     "text": [
      "[  1   2  56 878  14  45  19  21]\n"
     ]
    }
   ],
   "source": [
    "lista_01 = [1, 2, 56, 878, 14, 45, 19, 21]\n",
    "a = np.array(lista_01)\n",
    "print(a)"
   ]
  },
  {
   "cell_type": "code",
   "execution_count": 3,
   "id": "62f65afa",
   "metadata": {},
   "outputs": [
    {
     "data": {
      "text/plain": [
       "(8,)"
      ]
     },
     "execution_count": 3,
     "metadata": {},
     "output_type": "execute_result"
    }
   ],
   "source": [
    "# Longitud de cada dimensión del array a\n",
    "a.shape"
   ]
  },
  {
   "cell_type": "markdown",
   "id": "2a58cc60",
   "metadata": {},
   "source": [
    "> **Nota** Observa que si el array es de una sola dimensión el atributo shape devuelve la tupla *(columnas,)* esta es una convención y lo que indica es que tenemos un array de *1 fila y 8 columnas*."
   ]
  },
  {
   "cell_type": "code",
   "execution_count": 4,
   "id": "ccc15bb1",
   "metadata": {},
   "outputs": [
    {
     "data": {
      "text/plain": [
       "array([[ 10, 155,  45],\n",
       "       [ 21, 178,  75]])"
      ]
     },
     "execution_count": 4,
     "metadata": {},
     "output_type": "execute_result"
    }
   ],
   "source": [
    "lista_02 = [[10,155,45],[21,178,75]]\n",
    "b = np.array(lista_02)\n",
    "b"
   ]
  },
  {
   "cell_type": "code",
   "execution_count": 5,
   "id": "6cc7e1f1",
   "metadata": {},
   "outputs": [
    {
     "data": {
      "text/plain": [
       "(2, 3)"
      ]
     },
     "execution_count": 5,
     "metadata": {},
     "output_type": "execute_result"
    }
   ],
   "source": [
    "# Longitud de cada dimensión del array b\n",
    "b.shape"
   ]
  },
  {
   "cell_type": "markdown",
   "id": "1e1fbdba",
   "metadata": {},
   "source": [
    "Existen situaciones en donde necesitamos inicializar un array con valores que desconocemos y NumPy ofrece funciones para crear matrices con *contenido de marcador de posición inicial*."
   ]
  },
  {
   "cell_type": "markdown",
   "id": "bb2a888f",
   "metadata": {},
   "source": [
    "#### Utilizando una función de NumPy"
   ]
  },
  {
   "cell_type": "markdown",
   "id": "2dccdf66",
   "metadata": {},
   "source": [
    "##### Matriz con ceros"
   ]
  },
  {
   "cell_type": "code",
   "execution_count": 6,
   "id": "6269d5c5",
   "metadata": {},
   "outputs": [
    {
     "data": {
      "text/plain": [
       "array([[0., 0., 0.],\n",
       "       [0., 0., 0.],\n",
       "       [0., 0., 0.],\n",
       "       [0., 0., 0.],\n",
       "       [0., 0., 0.]])"
      ]
     },
     "execution_count": 6,
     "metadata": {},
     "output_type": "execute_result"
    }
   ],
   "source": [
    "c = np.zeros((5,3)) # Matriz de 5x3 rellena de zeros\n",
    "c"
   ]
  },
  {
   "cell_type": "code",
   "execution_count": 7,
   "id": "096b9990",
   "metadata": {},
   "outputs": [
    {
     "data": {
      "text/plain": [
       "2"
      ]
     },
     "execution_count": 7,
     "metadata": {},
     "output_type": "execute_result"
    }
   ],
   "source": [
    "# Número de dimensiones de la matriz\n",
    "c.ndim"
   ]
  },
  {
   "cell_type": "code",
   "execution_count": 8,
   "id": "a9f72e60",
   "metadata": {},
   "outputs": [
    {
     "data": {
      "text/plain": [
       "(5, 3)"
      ]
     },
     "execution_count": 8,
     "metadata": {},
     "output_type": "execute_result"
    }
   ],
   "source": [
    "# Longitud de cada dimensión\n",
    "c.shape"
   ]
  },
  {
   "cell_type": "code",
   "execution_count": 9,
   "id": "88d5db1d",
   "metadata": {},
   "outputs": [
    {
     "data": {
      "text/plain": [
       "15"
      ]
     },
     "execution_count": 9,
     "metadata": {},
     "output_type": "execute_result"
    }
   ],
   "source": [
    "# Número de elementos de la matriz\n",
    "c.size"
   ]
  },
  {
   "cell_type": "code",
   "execution_count": 10,
   "id": "a8e2bf09",
   "metadata": {},
   "outputs": [
    {
     "data": {
      "text/plain": [
       "dtype('float64')"
      ]
     },
     "execution_count": 10,
     "metadata": {},
     "output_type": "execute_result"
    }
   ],
   "source": [
    "# Tipo de matriz\n",
    "c.dtype"
   ]
  },
  {
   "cell_type": "markdown",
   "id": "0606d9ca",
   "metadata": {},
   "source": [
    "c es una matriz con:\n",
    "- Dos ejes (**axis**) es decir, dos dimensiones (**rank**).\n",
    "- Longitud de 5 filas y 3 columnas (**shape**)\n",
    "- Un tamaño (**size**) de 15.\n",
    "- Tipo de elemento `float64`"
   ]
  },
  {
   "cell_type": "markdown",
   "id": "2ca856cd-2ac5-45eb-b959-1cc6ab3f25bb",
   "metadata": {},
   "source": [
    "##### Matriz con unos"
   ]
  },
  {
   "cell_type": "code",
   "execution_count": 11,
   "id": "b95717b0-de0f-4d3c-81a5-ebf0646e39fc",
   "metadata": {
    "tags": []
   },
   "outputs": [
    {
     "data": {
      "text/plain": [
       "array([[[1., 1., 1., 1.],\n",
       "        [1., 1., 1., 1.],\n",
       "        [1., 1., 1., 1.]],\n",
       "\n",
       "       [[1., 1., 1., 1.],\n",
       "        [1., 1., 1., 1.],\n",
       "        [1., 1., 1., 1.]]])"
      ]
     },
     "execution_count": 11,
     "metadata": {},
     "output_type": "execute_result"
    }
   ],
   "source": [
    "# Array cuyos valores son todos 1\n",
    "np.ones((2,3,4))"
   ]
  },
  {
   "cell_type": "markdown",
   "id": "792e47d1-6edb-4805-afb3-11b90d24e4d4",
   "metadata": {},
   "source": [
    "##### Matriz cuyos valores son todos el valor especificado como segundo parámetro"
   ]
  },
  {
   "cell_type": "code",
   "execution_count": 12,
   "id": "144bb134-5ee4-48ba-b6a5-f7c117b9dc0f",
   "metadata": {
    "tags": []
   },
   "outputs": [
    {
     "data": {
      "text/plain": [
       "array([[[7, 7, 7, 7],\n",
       "        [7, 7, 7, 7],\n",
       "        [7, 7, 7, 7]],\n",
       "\n",
       "       [[7, 7, 7, 7],\n",
       "        [7, 7, 7, 7],\n",
       "        [7, 7, 7, 7]]])"
      ]
     },
     "execution_count": 12,
     "metadata": {},
     "output_type": "execute_result"
    }
   ],
   "source": [
    "np.full((2, 3, 4), 7)"
   ]
  },
  {
   "cell_type": "markdown",
   "id": "4cc2660d-749d-4944-951a-818eb0c9378f",
   "metadata": {},
   "source": [
    "##### Matriz generada con empty"
   ]
  },
  {
   "cell_type": "markdown",
   "id": "88de06ea-acd5-4db0-9a3a-3a8146e8cbf4",
   "metadata": {},
   "source": [
    "El resultado no es predecible, rellena las dimensiones que se especifican con valores existentes en la memoria al momento de ejecución"
   ]
  },
  {
   "cell_type": "code",
   "execution_count": 13,
   "id": "7ca32fd4-3a58-40a3-8072-62ffa91b3001",
   "metadata": {
    "tags": []
   },
   "outputs": [
    {
     "data": {
      "text/plain": [
       "array([[[4.04738577e-320, 2.68771711e-321, 0.00000000e+000,\n",
       "         2.56806706e-316],\n",
       "        [4.94065646e-324, 2.56806785e-316, 2.56808920e-316,\n",
       "         1.18575755e-322],\n",
       "        [6.93704893e-310, 4.24399158e-314, 5.81021200e-321,\n",
       "         4.94065646e-324],\n",
       "        [4.24399158e-314, 1.03753786e-322, 2.56806825e-316,\n",
       "         6.93705019e-310],\n",
       "        [6.93701644e-310, 4.94065646e-324, 1.69759663e-313,\n",
       "         4.94065646e-324],\n",
       "        [2.56807378e-316, 2.56808327e-316, 1.48219694e-323,\n",
       "         2.56807497e-316],\n",
       "        [2.56807615e-316, 2.56807852e-316, 2.56808090e-316,\n",
       "         9.88131292e-323]],\n",
       "\n",
       "       [[6.93705076e-310, 0.00000000e+000, 4.94065646e-324,\n",
       "         2.12199579e-313],\n",
       "        [2.33419537e-313, 9.88131292e-323, 6.93705076e-310,\n",
       "         0.00000000e+000],\n",
       "        [5.58788245e-321, 2.54639495e-313, 2.75859453e-313,\n",
       "         9.88131292e-323],\n",
       "        [6.93705076e-310, 0.00000000e+000, 5.43472210e-323,\n",
       "         2.97079411e-313],\n",
       "        [3.18299369e-313, 9.88131292e-323, 6.93701930e-310,\n",
       "         0.00000000e+000],\n",
       "        [5.60270442e-321, 1.90979621e-313, 3.39519327e-313,\n",
       "         0.00000000e+000],\n",
       "        [2.56808643e-316, 0.00000000e+000, 8.39911598e-323,\n",
       "         2.56807062e-316]],\n",
       "\n",
       "       [[2.56807299e-316, 2.56808564e-316, 4.94065646e-324,\n",
       "         3.60739284e-313],\n",
       "        [1.13635099e-322, 2.56808682e-316, 2.96439388e-323,\n",
       "         0.00000000e+000],\n",
       "        [5.58788245e-321, 2.56810026e-316, 2.96439388e-323,\n",
       "         4.94065646e-324],\n",
       "        [3.60739284e-313, 9.88131292e-324, 2.56806706e-316,\n",
       "         2.56809078e-316],\n",
       "        [5.59776377e-321, 2.56810026e-316, 6.93701644e-310,\n",
       "         2.56809236e-316],\n",
       "        [5.60270442e-321, 2.56810026e-316, 2.96439388e-323,\n",
       "         2.56809394e-316],\n",
       "        [5.60764508e-321, 2.56810026e-316, 2.96439388e-323,\n",
       "         2.56809552e-316]]])"
      ]
     },
     "execution_count": 13,
     "metadata": {},
     "output_type": "execute_result"
    }
   ],
   "source": [
    "np.empty((3,7,4))"
   ]
  },
  {
   "cell_type": "markdown",
   "id": "e8adc4e7-c7b5-4a80-80da-1969b122f5bd",
   "metadata": {},
   "source": [
    "#### Creación de array utilizando una función basada en rangos\n",
    "\n",
    "##### Utilizando secuencias (arrange)\n",
    "Cuando nos referimos a secuencias es definir un mínimo, un máximo y un salto entre cada valor sin incluir el valor máximo. `[mínimo, máximo)`"
   ]
  },
  {
   "cell_type": "code",
   "execution_count": 14,
   "id": "dd75c331-5684-4531-b455-9b1001fe65a0",
   "metadata": {
    "tags": []
   },
   "outputs": [
    {
     "data": {
      "text/plain": [
       "array([ 1. ,  1.5,  2. ,  2.5,  3. ,  3.5,  4. ,  4.5,  5. ,  5.5,  6. ,\n",
       "        6.5,  7. ,  7.5,  8. ,  8.5,  9. ,  9.5, 10. ])"
      ]
     },
     "execution_count": 14,
     "metadata": {},
     "output_type": "execute_result"
    }
   ],
   "source": [
    "# (minimo, maximo, salto)\n",
    "np.arange(1,10.5,0.5)"
   ]
  },
  {
   "cell_type": "markdown",
   "id": "c8295004-972b-4a52-8bf7-b4a7693d75c8",
   "metadata": {},
   "source": [
    "##### Creando separaciones uniformes (linspace)\n",
    "El siguiente código crea un array desde el 0.1 hasta el 1 con 10 elementos separados uniformemente.\n",
    "\n",
    "A diferencia de la función anterior, con esta, podemos determinar el número de elementos que queremos que tenga nuestro array de forma más intuitiva."
   ]
  },
  {
   "cell_type": "code",
   "execution_count": 15,
   "id": "1ded5c5d-d387-49f1-8eef-eebcce087d81",
   "metadata": {
    "tags": []
   },
   "outputs": [
    {
     "data": {
      "text/plain": [
       "array([0.1, 0.2, 0.3, 0.4, 0.5, 0.6, 0.7, 0.8, 0.9, 1. ])"
      ]
     },
     "execution_count": 15,
     "metadata": {},
     "output_type": "execute_result"
    }
   ],
   "source": [
    "# (minimo,maximo, número de elementos del array)\n",
    "np.linspace(0.1, 1, 10)"
   ]
  },
  {
   "cell_type": "markdown",
   "id": "4b948248-af57-459f-b1d1-f29fc9137f5c",
   "metadata": {},
   "source": [
    "#### Creación de array con valores aleatorios (random.rand)\n",
    "Esta función devuelve valores aleatorios entre 0 y 1"
   ]
  },
  {
   "cell_type": "code",
   "execution_count": 16,
   "id": "9e3dd316-819b-4830-9707-ccd3faf5562f",
   "metadata": {
    "tags": []
   },
   "outputs": [
    {
     "data": {
      "text/plain": [
       "array([[0.65768905, 0.96291442, 0.96688592],\n",
       "       [0.87358515, 0.73611102, 0.55674651],\n",
       "       [0.3061494 , 0.12350835, 0.89532284],\n",
       "       [0.83696749, 0.24846473, 0.78080967],\n",
       "       [0.27242224, 0.24311382, 0.35494843],\n",
       "       [0.43346604, 0.07774103, 0.73660568],\n",
       "       [0.23593348, 0.0034342 , 0.5603241 ]])"
      ]
     },
     "execution_count": 16,
     "metadata": {},
     "output_type": "execute_result"
    }
   ],
   "source": [
    "np.random.rand(7,3)"
   ]
  },
  {
   "cell_type": "markdown",
   "id": "5a8fe9ca-6064-460f-b4ac-dcf7996a9f04",
   "metadata": {},
   "source": [
    "#### Creación de array con valores aleatorios siguiendo una distribución normal (random.randn)\n"
   ]
  },
  {
   "cell_type": "code",
   "execution_count": 17,
   "id": "7412b501-f903-4583-ae04-8f91f9647612",
   "metadata": {
    "tags": []
   },
   "outputs": [
    {
     "data": {
      "text/plain": [
       "array([[ 0.6410787 ,  0.68957051,  0.59897611, -0.11566218],\n",
       "       [-0.29080831, -0.72898658, -0.75485236,  0.43483924],\n",
       "       [-1.2512188 , -1.06017064,  0.47319132, -0.8448604 ],\n",
       "       [ 0.56395502, -0.52186408,  0.39911225, -1.07608577],\n",
       "       [ 2.15347445, -0.3880962 ,  0.84035677,  0.39759408],\n",
       "       [ 0.93990232,  0.60558819,  1.70572191,  1.11331004],\n",
       "       [ 0.56748424,  0.57448037, -0.60992119, -0.58933712]])"
      ]
     },
     "execution_count": 17,
     "metadata": {},
     "output_type": "execute_result"
    }
   ],
   "source": [
    "np.random.randn(7,4)"
   ]
  },
  {
   "cell_type": "markdown",
   "id": "8810a343-a7f0-43d5-99fa-5a35abf40d75",
   "metadata": {},
   "source": [
    "### Acceso a los elementos de un array\n",
    "Definimos un array"
   ]
  },
  {
   "cell_type": "markdown",
   "id": "e8a6b682-148e-4eee-be85-9e9f86ac0371",
   "metadata": {},
   "source": [
    "#### Unidimensional"
   ]
  },
  {
   "cell_type": "code",
   "execution_count": 18,
   "id": "bdf2f552-5a96-4faa-af7f-93b352347390",
   "metadata": {
    "tags": []
   },
   "outputs": [
    {
     "name": "stdout",
     "output_type": "stream",
     "text": [
      "[0.08005271 0.33262315 0.00248996 0.70410642 0.62841394 0.19985071]\n",
      "Dimensiones 1\n",
      "Longitud de sus dimensiones (6,)\n",
      "Tipo de datos float64\n"
     ]
    }
   ],
   "source": [
    "array_01 = np.random.rand(6)\n",
    "print(array_01)\n",
    "print(f'Dimensiones {array_01.ndim}')\n",
    "print(f'Longitud de sus dimensiones {array_01.shape}')\n",
    "print(f'Tipo de datos {array_01.dtype}')"
   ]
  },
  {
   "cell_type": "code",
   "execution_count": 19,
   "id": "1ac60a90-6eb0-42c5-99eb-80bd7575c58c",
   "metadata": {
    "tags": []
   },
   "outputs": [
    {
     "data": {
      "text/plain": [
       "0.33262315161883405"
      ]
     },
     "execution_count": 19,
     "metadata": {},
     "output_type": "execute_result"
    }
   ],
   "source": [
    "# Acceso al elemento 1\n",
    "array_01[1]"
   ]
  },
  {
   "cell_type": "code",
   "execution_count": 20,
   "id": "77f21540-6754-4963-b1d0-afc37f3e178f",
   "metadata": {
    "tags": []
   },
   "outputs": [
    {
     "data": {
      "text/plain": [
       "array([0.00248996, 0.70410642, 0.62841394])"
      ]
     },
     "execution_count": 20,
     "metadata": {},
     "output_type": "execute_result"
    }
   ],
   "source": [
    "# Acceso a un conjunto de elementos, desde el 2 al 5\n",
    "array_01[2:5]"
   ]
  },
  {
   "cell_type": "code",
   "execution_count": 21,
   "id": "dbaa7759-3c61-4cf9-af03-94a8ef2b1916",
   "metadata": {
    "tags": []
   },
   "outputs": [
    {
     "data": {
      "text/plain": [
       "array([0.08005271, 0.70410642])"
      ]
     },
     "execution_count": 21,
     "metadata": {},
     "output_type": "execute_result"
    }
   ],
   "source": [
    "# Acceso a elementos salteados definiendo el salto\n",
    "array_01[0::3] # Muestra los elementos 0 y 4"
   ]
  },
  {
   "cell_type": "markdown",
   "id": "41045291-b073-470a-a72e-63ebc578c91f",
   "metadata": {},
   "source": [
    "#### Multidimensional"
   ]
  },
  {
   "cell_type": "code",
   "execution_count": 22,
   "id": "5b867b73-1cc8-45a5-92fd-d8efbe82828e",
   "metadata": {
    "tags": []
   },
   "outputs": [
    {
     "name": "stdout",
     "output_type": "stream",
     "text": [
      "[[ 2  4  6  8]\n",
      " [10 12 14 16]]\n",
      "Dimensiones 2\n",
      "Longitud de sus dimensiones (2, 4)\n",
      "Tipo de datos int64\n"
     ]
    }
   ],
   "source": [
    "array_02 = np.array([[2,4,6,8],[10,12,14,16]])\n",
    "print(array_02)\n",
    "print(f'Dimensiones {array_02.ndim}')\n",
    "print(f'Longitud de sus dimensiones {array_02.shape}')\n",
    "print(f'Tipo de datos {array_02.dtype}')"
   ]
  },
  {
   "cell_type": "code",
   "execution_count": 23,
   "id": "f7df6836-f03a-4701-9acf-33a3e84ace95",
   "metadata": {
    "tags": []
   },
   "outputs": [
    {
     "data": {
      "text/plain": [
       "10"
      ]
     },
     "execution_count": 23,
     "metadata": {},
     "output_type": "execute_result"
    }
   ],
   "source": [
    "# Acceso al elemento 5 del array\n",
    "array_02[1,0]"
   ]
  },
  {
   "cell_type": "code",
   "execution_count": 24,
   "id": "aab4d135-3a64-4c60-a580-377c4125e385",
   "metadata": {
    "tags": []
   },
   "outputs": [
    {
     "data": {
      "text/plain": [
       "array([2, 4, 6, 8])"
      ]
     },
     "execution_count": 24,
     "metadata": {},
     "output_type": "execute_result"
    }
   ],
   "source": [
    "# Acceso a la primera fila del array\n",
    "array_02[0, :]"
   ]
  },
  {
   "cell_type": "code",
   "execution_count": 25,
   "id": "ed637d64-d195-41db-bb01-1d21761be2d0",
   "metadata": {
    "tags": []
   },
   "outputs": [
    {
     "data": {
      "text/plain": [
       "array([10, 12, 14, 16])"
      ]
     },
     "execution_count": 25,
     "metadata": {},
     "output_type": "execute_result"
    }
   ],
   "source": [
    "# Acceso a la segunda fila del array\n",
    "array_02[1, :]"
   ]
  },
  {
   "cell_type": "code",
   "execution_count": 26,
   "id": "dbaf3f47-0502-4752-8f0d-d331d95c0a7b",
   "metadata": {
    "tags": []
   },
   "outputs": [
    {
     "data": {
      "text/plain": [
       "array([ 4, 12])"
      ]
     },
     "execution_count": 26,
     "metadata": {},
     "output_type": "execute_result"
    }
   ],
   "source": [
    "# Acceso al segundo elemento de las dos primeras filas del array\n",
    "array_02[:, 1]"
   ]
  },
  {
   "cell_type": "markdown",
   "id": "d5f1e567-a447-4434-aede-c7c20fad651c",
   "metadata": {},
   "source": [
    "### Modificar un Array"
   ]
  },
  {
   "cell_type": "markdown",
   "id": "329ffd8b-a913-46ae-80a5-346fd1caa748",
   "metadata": {},
   "source": [
    "Para poder trabajar con NumPy, es necesario saber cómo podemos modificar un array. Un array es mutable, lo que significa que podemos modificarlo en tiempo de ejecución. Para entender cómo modificar un array, mostraremos una serie de ejemplos. En síntesis, cuando hablamos de modificar un array, nos referimos a cambiar sus dimensiones o su contenido, con todos los pormenores que estas acciones puedan tener."
   ]
  },
  {
   "cell_type": "code",
   "execution_count": 43,
   "id": "6fb7cf91-4ba1-4976-80e0-e406c15e4523",
   "metadata": {},
   "outputs": [
    {
     "data": {
      "text/plain": [
       "array([ 0,  1,  2,  3,  4,  5,  6,  7,  8,  9, 10, 11, 12, 13, 14, 15, 16,\n",
       "       17, 18, 19, 20, 21, 22, 23])"
      ]
     },
     "execution_count": 43,
     "metadata": {},
     "output_type": "execute_result"
    }
   ],
   "source": [
    "# Array unidimensional\n",
    "array_uni = np.arange(24) # Crea un vector desde 0 hasta 24\n",
    "array_uni"
   ]
  },
  {
   "cell_type": "markdown",
   "id": "52ca1056-702a-40df-8fa9-f00eb44611a9",
   "metadata": {},
   "source": [
    "#### Modificar contenido y dimensiones"
   ]
  },
  {
   "cell_type": "markdown",
   "id": "a44b651f-2126-4507-b825-c84bd4c9d43d",
   "metadata": {},
   "source": [
    "Anteriormente, al hablar de las dimensiones de un array, vimos que hacíamos referencia al atributo 'shape'. Para modificar las dimensiones de un array, tenemos que aplicar este método sobre el vector que queremos modificar y asignarle el nuevo valor que deseamos."
   ]
  },
  {
   "cell_type": "code",
   "execution_count": 44,
   "id": "dc2ebc0e-13fc-4179-8a6b-9da87fcd8a67",
   "metadata": {},
   "outputs": [
    {
     "data": {
      "text/plain": [
       "array([[ 0,  1,  2,  3],\n",
       "       [ 4,  5,  6,  7],\n",
       "       [ 8,  9, 10, 11],\n",
       "       [12, 13, 14, 15],\n",
       "       [16, 17, 18, 19],\n",
       "       [20, 21, 22, 23]])"
      ]
     },
     "execution_count": 44,
     "metadata": {},
     "output_type": "execute_result"
    }
   ],
   "source": [
    "array_uni.shape = (6, 4)\n",
    "array_uni"
   ]
  },
  {
   "cell_type": "markdown",
   "id": "9927b23d-ffbd-4f93-b72a-8be15d1daa00",
   "metadata": {},
   "source": [
    "La ejecución anterior devuelve un array que apunta a los mismos datos de array_uni original. Para ver cuál es la naturaleza de asignar un array a uno nuevo y los efectos que tiene modificar cualquiera de los arrays, veamos los siguientes ejemplos:\n",
    "1. Generamos un array a partir de otro previamente creado pero con sus dimensiones modificadas. El método `reshape` nos permite modificar las dimensiones de un array directamente, sin necesidad de realizar una asignación como sucedia con `shape`."
   ]
  },
  {
   "cell_type": "code",
   "execution_count": 45,
   "id": "b703103c-05e8-427c-ab79-e08d60833322",
   "metadata": {},
   "outputs": [
    {
     "data": {
      "text/plain": [
       "array([[ 0,  1,  2,  3,  4,  5],\n",
       "       [ 6,  7,  8,  9, 10, 11],\n",
       "       [12, 13, 14, 15, 16, 17],\n",
       "       [18, 19, 20, 21, 22, 23]])"
      ]
     },
     "execution_count": 45,
     "metadata": {},
     "output_type": "execute_result"
    }
   ],
   "source": [
    "array_multi = array_uni.reshape(4,6)\n",
    "array_multi"
   ]
  },
  {
   "cell_type": "markdown",
   "id": "30cd9e7a-61ab-4e11-8142-b5d06a2efb15",
   "metadata": {},
   "source": [
    "2. Modificamos el nuevo array `array_uni_02`"
   ]
  },
  {
   "cell_type": "code",
   "execution_count": 46,
   "id": "f22d6500-f2c4-4a9f-b4df-635c27052505",
   "metadata": {},
   "outputs": [
    {
     "data": {
      "text/plain": [
       "array([[  0,   1,   2,   3,   4,   5],\n",
       "       [  6,   7,   8,   9,  10,  11],\n",
       "       [ 12,  13,  14,  15,  16,  17],\n",
       "       [ 18,  19,  20,  21, 978,  23]])"
      ]
     },
     "execution_count": 46,
     "metadata": {},
     "output_type": "execute_result"
    }
   ],
   "source": [
    "array_multi[3,4] = 978\n",
    "array_multi"
   ]
  },
  {
   "cell_type": "markdown",
   "id": "aee883e5-71f3-43bc-b73c-56bf48bb98d9",
   "metadata": {},
   "source": [
    "Si hemos modificado `array_uni_02` y este fue resultado de una asignación a un array previo pero con dimensiones nuevas, podriamos esperar que `array_uni` no sufriera modificaciones. Vamos a verificarlo:\n",
    "3. Verificamos contenido del array original `array_uni`"
   ]
  },
  {
   "cell_type": "code",
   "execution_count": 47,
   "id": "d5be3c23-96a1-45e6-850e-ef34ae87850e",
   "metadata": {},
   "outputs": [
    {
     "data": {
      "text/plain": [
       "array([[  0,   1,   2,   3],\n",
       "       [  4,   5,   6,   7],\n",
       "       [  8,   9,  10,  11],\n",
       "       [ 12,  13,  14,  15],\n",
       "       [ 16,  17,  18,  19],\n",
       "       [ 20,  21, 978,  23]])"
      ]
     },
     "execution_count": 47,
     "metadata": {},
     "output_type": "execute_result"
    }
   ],
   "source": [
    "array_uni"
   ]
  },
  {
   "cell_type": "markdown",
   "id": "1aa1f2b1-b9ce-4529-9c87-6ee4ec1e3018",
   "metadata": {},
   "source": [
    "Como se observa, modificar un array tendrá como consecuencia modificar todas las dependencias que hayan surgido de él.Para terminar con esta sección veremos como podemos 'desenvolver el array de dos dimensiones para devolverlo a su estado original."
   ]
  },
  {
   "cell_type": "code",
   "execution_count": 48,
   "id": "bdd87f58-67ae-4f5f-a4d8-b9330dece122",
   "metadata": {},
   "outputs": [
    {
     "data": {
      "text/plain": [
       "array([  0,   1,   2,   3,   4,   5,   6,   7,   8,   9,  10,  11,  12,\n",
       "        13,  14,  15,  16,  17,  18,  19,  20,  21, 978,  23])"
      ]
     },
     "execution_count": 48,
     "metadata": {},
     "output_type": "execute_result"
    }
   ],
   "source": [
    "array_multi.ravel()"
   ]
  }
 ],
 "metadata": {
  "kernelspec": {
   "display_name": "Python 3 (ipykernel)",
   "language": "python",
   "name": "python3"
  },
  "language_info": {
   "codemirror_mode": {
    "name": "ipython",
    "version": 3
   },
   "file_extension": ".py",
   "mimetype": "text/x-python",
   "name": "python",
   "nbconvert_exporter": "python",
   "pygments_lexer": "ipython3",
   "version": "3.10.13"
  }
 },
 "nbformat": 4,
 "nbformat_minor": 5
}
