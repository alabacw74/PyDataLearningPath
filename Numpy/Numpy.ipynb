{
 "cells": [
  {
   "cell_type": "markdown",
   "id": "de88df9d",
   "metadata": {},
   "source": [
    "# Introducción a NumPy"
   ]
  },
  {
   "cell_type": "markdown",
   "id": "20cba099",
   "metadata": {},
   "source": [
    "## ¿Qué es NumPy?"
   ]
  },
  {
   "cell_type": "markdown",
   "id": "df624e94",
   "metadata": {},
   "source": [
    "### Palabras Clave\n",
    "\n",
    "* Paquete\n",
    "* Matriz multidimensional\n",
    "* Operaciones rápidas entre matrices\n",
    "* Objeto ndarray\n",
    "* Datos homogéneos\n",
    "* Ejecución de código compilado."
   ]
  },
  {
   "cell_type": "markdown",
   "id": "42b09d18",
   "metadata": {},
   "source": [
    "Si nos dirigimos a la documentación oficial de [Numpy](https://numpy.org/doc/stable/user/whatisnumpy.html), podemos decir, en resumen, que es una herramienta útil cuando deseamos realizar operaciones con matrices. Su potencial se muestra al trabajar con matrices de tamaños cada vez más grandes, ya que ejecuta código compilado para realizar las operaciones sin la necesidad de salir de Python.\n",
    "\n",
    "Es importante destacar que los objetos ndarray deben ser de **datos homogéneos**, mencionándolo para evitar errores de ejecución."
   ]
  },
  {
   "cell_type": "markdown",
   "id": "64856958",
   "metadata": {},
   "source": [
    "## Diferencias entre el úso de NumPy y las secuencias estándar de Python"
   ]
  },
  {
   "cell_type": "markdown",
   "id": "d490b0ee",
   "metadata": {},
   "source": [
    "|Numpy|Python|\n",
    "|:--------------------------------------:|:-------------------------:|\n",
    "|Tamaño fijo en el momento de su creación|Pueden crecer dinámicamente|\n",
    "|Los elementos deben ser homogéneos|Permite multples datos|\n",
    "|Facilidad en operaciones matemáticas avanzadas y procesamiento de grandes conjuntos de datos|Requiere implementar las operaciones además de la reducción en el rendimiento|\n",
    "|Compatibilidad con la mayoría del software científico/matemático basado en Python| **Saber cómo usar los tipos de secuencia integrados de Python es insuficiente**|"
   ]
  },
  {
   "cell_type": "markdown",
   "id": "63aa194e",
   "metadata": {},
   "source": [
    "> Cambiar el tamaño de un *ndarray* creará una nueva matrz y eliminará el original.\n",
    "\n",
    "> Es posible crear una matriz de objetos en NumPy permitiendo una mayor flexibilidad. Con la consecuencia de perder rendimiento y la capacidad de aprovechar las implementaciones más eficientes que ofrece el paquete.\n",
    "\n",
    "> NumPy nos ofrece lo mejor de ambos mundos. Se ejecuta a velocidades cercanas a C, pero con la simplicidad del código que esperamos de algo basado en Python."
   ]
  },
  {
   "cell_type": "markdown",
   "id": "faa2657e",
   "metadata": {},
   "source": [
    "## ¿Por qué utilizar NumPy?"
   ]
  },
  {
   "cell_type": "markdown",
   "id": "ef98f683",
   "metadata": {},
   "source": [
    "Pienso que la principal razón para utilizar NumPy es por su escalabilidad a paquetes basados en Python. Si deseamos utilizar Python como lenguaje de programación enfocado en aplicaciones cientificas de cualquier área NumPy es el estandar, tal es así que en la misma documentación refieren que la mayoria de las paqueterias que se implementan para Python requieren como base un arreglo de Numpy. El punto anterior es el fundamento de la necesidad de aprender a utilizarlo, como segundo punto esta el tiempo. Si nos enfocamos en el análisis de datos, encontraremos con frecuencia conjuntos de datos que superan el millon de datos, por ello es necesario tener una forma eficiente de preparar, procesar y analizar nuestros datos sin tener que sacrificar la facilidad en la codificación, esto es algo que logra el paquete Numpy gracias a las siguientes caracteristicas:\n",
    "\n",
    "* Vectorización: Permite realizar operaciones en arreglos completos en lugar de iterar sobre elementos individualmente.\n",
    "* Operaciones en C optimizadas: La implementación de las operaciones que realiza se implementan en C, provocando que se manipulen los datos a un nivel de abstracción más bajo.\n",
    "* Radiodifusión: Permite realizar operaciones entre arreglos de diferentes formas y tamaños de manera automática y eficiente."
   ]
  },
  {
   "cell_type": "markdown",
   "id": "770e903d",
   "metadata": {},
   "source": [
    "## ¿Cómo empezar a utilizar NumPy?"
   ]
  },
  {
   "cell_type": "markdown",
   "id": "4f3339a7",
   "metadata": {},
   "source": [
    "Lo primero que se debe hacer para utilizar NumPy es instalar la libreria utilizando:\n",
    "\n",
    "```\n",
    "pip install numpy\n",
    "\n",
    "```\n",
    "Después es necesario importar la biblioteca en nuestro script"
   ]
  },
  {
   "cell_type": "code",
   "execution_count": 1,
   "id": "68325a7d",
   "metadata": {},
   "outputs": [],
   "source": [
    "# Importación de numpy con alias\n",
    "import numpy as np"
   ]
  },
  {
   "cell_type": "markdown",
   "id": "9c4b864d",
   "metadata": {},
   "source": [
    "Si la estructura básica para utilizar NumPy es un array entonces debemos saber como crearlos o inicializarlos, antes de poder pensar en operarlos."
   ]
  },
  {
   "cell_type": "markdown",
   "id": "5a28804d",
   "metadata": {},
   "source": [
    "### Atributos básicos de la clase ndarray"
   ]
  },
  {
   "cell_type": "markdown",
   "id": "779bafb7",
   "metadata": {},
   "source": [
    "- `ndarray.ndim`: El número de ejes (dimensiones) del array\n",
    "- `ndarray.shape`: Es una tupla de números enteros que indica la longitud  de cada dimensión.*(filas, columnas)*\n",
    "- `ndarray.size`: El número total de elementos del array, es igual a multiplicar los elementos de la tupla devuelta por `shape`.\n",
    "- `ndarray.dtype`: Devuelve una descripción del tipo de elementos que existen dentro del array. NumPy proporciona algunos tipos adicionales, por ejemplo, `numpy.int32`, `numpy.int16` o `numpy.float64`."
   ]
  },
  {
   "cell_type": "markdown",
   "id": "619c4511",
   "metadata": {},
   "source": [
    "### Creación de un array\n",
    "#### Desde una lista de Python"
   ]
  },
  {
   "cell_type": "code",
   "execution_count": 2,
   "id": "cf0d265f",
   "metadata": {},
   "outputs": [
    {
     "name": "stdout",
     "output_type": "stream",
     "text": [
      "[  1   2  56 878  14  45  19  21]\n"
     ]
    }
   ],
   "source": [
    "lista_01 = [1, 2, 56, 878, 14, 45, 19, 21]\n",
    "a = np.array(lista_01)\n",
    "print(a)"
   ]
  },
  {
   "cell_type": "code",
   "execution_count": 3,
   "id": "62f65afa",
   "metadata": {},
   "outputs": [
    {
     "data": {
      "text/plain": [
       "(8,)"
      ]
     },
     "execution_count": 3,
     "metadata": {},
     "output_type": "execute_result"
    }
   ],
   "source": [
    "# Longitud de cada dimensión del array a\n",
    "a.shape"
   ]
  },
  {
   "cell_type": "markdown",
   "id": "2a58cc60",
   "metadata": {},
   "source": [
    "> **Nota** Observa que si el array es de una sola dimensión el atributo shape devuelve la tupla *(columnas,)* esta es una convención y lo que indica es que tenemos un array de *1 fila y 8 columnas*."
   ]
  },
  {
   "cell_type": "code",
   "execution_count": 4,
   "id": "ccc15bb1",
   "metadata": {},
   "outputs": [
    {
     "data": {
      "text/plain": [
       "array([[ 10, 155,  45],\n",
       "       [ 21, 178,  75]])"
      ]
     },
     "execution_count": 4,
     "metadata": {},
     "output_type": "execute_result"
    }
   ],
   "source": [
    "lista_02 = [[10,155,45],[21,178,75]]\n",
    "b = np.array(lista_02)\n",
    "b"
   ]
  },
  {
   "cell_type": "code",
   "execution_count": 5,
   "id": "6cc7e1f1",
   "metadata": {},
   "outputs": [
    {
     "data": {
      "text/plain": [
       "(2, 3)"
      ]
     },
     "execution_count": 5,
     "metadata": {},
     "output_type": "execute_result"
    }
   ],
   "source": [
    "# Longitud de cada dimensión del array b\n",
    "b.shape"
   ]
  },
  {
   "cell_type": "markdown",
   "id": "1e1fbdba",
   "metadata": {},
   "source": [
    "Existen situaciones en donde necesitamos inicializar un array con valores que desconocemos y NumPy ofrece funciones para crear matrices con *contenido de marcador de posición inicial*."
   ]
  },
  {
   "cell_type": "markdown",
   "id": "bb2a888f",
   "metadata": {},
   "source": [
    "#### Utilizando una función de NumPy"
   ]
  },
  {
   "cell_type": "markdown",
   "id": "2dccdf66",
   "metadata": {},
   "source": [
    "##### Matriz con ceros"
   ]
  },
  {
   "cell_type": "code",
   "execution_count": 6,
   "id": "6269d5c5",
   "metadata": {},
   "outputs": [
    {
     "data": {
      "text/plain": [
       "array([[0., 0., 0.],\n",
       "       [0., 0., 0.],\n",
       "       [0., 0., 0.],\n",
       "       [0., 0., 0.],\n",
       "       [0., 0., 0.]])"
      ]
     },
     "execution_count": 6,
     "metadata": {},
     "output_type": "execute_result"
    }
   ],
   "source": [
    "c = np.zeros((5,3)) # Matriz de 5x3 rellena de zeros\n",
    "c"
   ]
  },
  {
   "cell_type": "code",
   "execution_count": 7,
   "id": "096b9990",
   "metadata": {},
   "outputs": [
    {
     "data": {
      "text/plain": [
       "2"
      ]
     },
     "execution_count": 7,
     "metadata": {},
     "output_type": "execute_result"
    }
   ],
   "source": [
    "# Número de dimensiones de la matriz\n",
    "c.ndim"
   ]
  },
  {
   "cell_type": "code",
   "execution_count": 8,
   "id": "a9f72e60",
   "metadata": {},
   "outputs": [
    {
     "data": {
      "text/plain": [
       "(5, 3)"
      ]
     },
     "execution_count": 8,
     "metadata": {},
     "output_type": "execute_result"
    }
   ],
   "source": [
    "# Longitud de cada dimensión\n",
    "c.shape"
   ]
  },
  {
   "cell_type": "code",
   "execution_count": 9,
   "id": "88d5db1d",
   "metadata": {},
   "outputs": [
    {
     "data": {
      "text/plain": [
       "15"
      ]
     },
     "execution_count": 9,
     "metadata": {},
     "output_type": "execute_result"
    }
   ],
   "source": [
    "# Número de elementos de la matriz\n",
    "c.size"
   ]
  },
  {
   "cell_type": "code",
   "execution_count": 10,
   "id": "a8e2bf09",
   "metadata": {},
   "outputs": [
    {
     "data": {
      "text/plain": [
       "dtype('float64')"
      ]
     },
     "execution_count": 10,
     "metadata": {},
     "output_type": "execute_result"
    }
   ],
   "source": [
    "# Tipo de matriz\n",
    "c.dtype"
   ]
  },
  {
   "cell_type": "markdown",
   "id": "0606d9ca",
   "metadata": {},
   "source": [
    "c es una matriz con:\n",
    "- Dos ejes (**axis**) es decir, dos dimensiones (**rank**).\n",
    "- Longitud de 5 filas y 3 columnas (**shape**)\n",
    "- Un tamaño (**size**) de 15.\n",
    "- Tipo de elemento `float64`"
   ]
  },
  {
   "cell_type": "markdown",
   "id": "2ca856cd-2ac5-45eb-b959-1cc6ab3f25bb",
   "metadata": {},
   "source": [
    "##### Matriz con unos"
   ]
  },
  {
   "cell_type": "code",
   "execution_count": 14,
   "id": "b95717b0-de0f-4d3c-81a5-ebf0646e39fc",
   "metadata": {
    "tags": []
   },
   "outputs": [
    {
     "data": {
      "text/plain": [
       "array([[[1., 1., 1., 1.],\n",
       "        [1., 1., 1., 1.],\n",
       "        [1., 1., 1., 1.]],\n",
       "\n",
       "       [[1., 1., 1., 1.],\n",
       "        [1., 1., 1., 1.],\n",
       "        [1., 1., 1., 1.]]])"
      ]
     },
     "execution_count": 14,
     "metadata": {},
     "output_type": "execute_result"
    }
   ],
   "source": [
    "# Array cuyos valores son todos 1\n",
    "np.ones((2,3,4))"
   ]
  },
  {
   "cell_type": "markdown",
   "id": "792e47d1-6edb-4805-afb3-11b90d24e4d4",
   "metadata": {},
   "source": [
    "##### Matriz cuyos valores son todos el valor especificado como segundo parámetro"
   ]
  },
  {
   "cell_type": "code",
   "execution_count": 15,
   "id": "144bb134-5ee4-48ba-b6a5-f7c117b9dc0f",
   "metadata": {
    "tags": []
   },
   "outputs": [
    {
     "data": {
      "text/plain": [
       "array([[[7, 7, 7, 7],\n",
       "        [7, 7, 7, 7],\n",
       "        [7, 7, 7, 7]],\n",
       "\n",
       "       [[7, 7, 7, 7],\n",
       "        [7, 7, 7, 7],\n",
       "        [7, 7, 7, 7]]])"
      ]
     },
     "execution_count": 15,
     "metadata": {},
     "output_type": "execute_result"
    }
   ],
   "source": [
    "np.full((2, 3, 4), 7)"
   ]
  },
  {
   "cell_type": "markdown",
   "id": "4cc2660d-749d-4944-951a-818eb0c9378f",
   "metadata": {},
   "source": [
    "##### Matriz generada con empty"
   ]
  },
  {
   "cell_type": "markdown",
   "id": "88de06ea-acd5-4db0-9a3a-3a8146e8cbf4",
   "metadata": {},
   "source": [
    "El resultado no es predecible, rellena las dimensiones que se especifican con valores existentes en la memoria al momento de ejecución"
   ]
  },
  {
   "cell_type": "code",
   "execution_count": 24,
   "id": "7ca32fd4-3a58-40a3-8072-62ffa91b3001",
   "metadata": {
    "tags": []
   },
   "outputs": [
    {
     "data": {
      "text/plain": [
       "array([[[6.95091521e-310, 6.95091521e-310, 0.00000000e+000,\n",
       "         2.12199579e-314],\n",
       "        [0.00000000e+000, 4.99006302e-322, 0.00000000e+000,\n",
       "         0.00000000e+000],\n",
       "        [2.12199579e-314, 4.24399158e-314, 2.12199587e-314,\n",
       "         0.00000000e+000],\n",
       "        [0.00000000e+000, 2.12199579e-314, 1.69759663e-313,\n",
       "         4.94065646e-322],\n",
       "        [0.00000000e+000, 0.00000000e+000, 2.12199579e-314,\n",
       "         3.39519327e-313],\n",
       "        [2.12199587e-314, 0.00000000e+000, 0.00000000e+000,\n",
       "         2.12199579e-314],\n",
       "        [3.60739284e-313, 2.12199588e-314, 0.00000000e+000,\n",
       "         0.00000000e+000]],\n",
       "\n",
       "       [[2.12199579e-314, 3.60739284e-313, 3.45845952e-322,\n",
       "         0.00000000e+000],\n",
       "        [0.00000000e+000, 2.12199579e-314, 3.60739284e-313,\n",
       "         2.12199584e-314],\n",
       "        [0.00000000e+000, 0.00000000e+000, 2.12199579e-314,\n",
       "         3.60739284e-313],\n",
       "        [4.10074486e-322, 0.00000000e+000, 0.00000000e+000,\n",
       "         2.12199579e-314],\n",
       "        [3.60739284e-313, 0.00000000e+000, 0.00000000e+000,\n",
       "         0.00000000e+000],\n",
       "        [0.00000000e+000, 0.00000000e+000, 0.00000000e+000,\n",
       "         0.00000000e+000],\n",
       "        [0.00000000e+000, 0.00000000e+000, 0.00000000e+000,\n",
       "         0.00000000e+000]],\n",
       "\n",
       "       [[0.00000000e+000, 0.00000000e+000, 0.00000000e+000,\n",
       "         0.00000000e+000],\n",
       "        [0.00000000e+000, 0.00000000e+000, 0.00000000e+000,\n",
       "         0.00000000e+000],\n",
       "        [0.00000000e+000, 0.00000000e+000, 0.00000000e+000,\n",
       "         0.00000000e+000],\n",
       "        [0.00000000e+000, 0.00000000e+000, 0.00000000e+000,\n",
       "         0.00000000e+000],\n",
       "        [0.00000000e+000, 0.00000000e+000, 0.00000000e+000,\n",
       "         0.00000000e+000],\n",
       "        [0.00000000e+000, 0.00000000e+000, 0.00000000e+000,\n",
       "         0.00000000e+000],\n",
       "        [0.00000000e+000, 4.79243676e-322, 6.95091521e-310,\n",
       "         6.95091521e-310]]])"
      ]
     },
     "execution_count": 24,
     "metadata": {},
     "output_type": "execute_result"
    }
   ],
   "source": [
    "np.empty((3,7,4))"
   ]
  },
  {
   "cell_type": "markdown",
   "id": "e8adc4e7-c7b5-4a80-80da-1969b122f5bd",
   "metadata": {},
   "source": [
    "#### Creación de array utilizando una función basada en rangos\n",
    "\n",
    "##### Utilizando secuencias (arrange)\n",
    "Cuando nos referimos a secuencias es definir un mínimo, un máximo y un salto entre cada valor sin incluir el valor máximo. `[mínimo, máximo)`"
   ]
  },
  {
   "cell_type": "code",
   "execution_count": 32,
   "id": "dd75c331-5684-4531-b455-9b1001fe65a0",
   "metadata": {
    "tags": []
   },
   "outputs": [
    {
     "data": {
      "text/plain": [
       "array([ 1. ,  1.5,  2. ,  2.5,  3. ,  3.5,  4. ,  4.5,  5. ,  5.5,  6. ,\n",
       "        6.5,  7. ,  7.5,  8. ,  8.5,  9. ,  9.5, 10. ])"
      ]
     },
     "execution_count": 32,
     "metadata": {},
     "output_type": "execute_result"
    }
   ],
   "source": [
    "# (minimo, maximo, salto)\n",
    "np.arange(1,10.5,0.5)"
   ]
  },
  {
   "cell_type": "markdown",
   "id": "c8295004-972b-4a52-8bf7-b4a7693d75c8",
   "metadata": {},
   "source": [
    "##### Creando separaciones uniformes (linspace)\n",
    "El siguiente código crea un array desde el 0.1 hasta el 1 con 10 elementos separados uniformemente.\n",
    "\n",
    "A diferencia de la función anterior, con esta, podemos determinar el número de elementos que queremos que tenga nuestro array de forma más intuitiva."
   ]
  },
  {
   "cell_type": "code",
   "execution_count": 30,
   "id": "1ded5c5d-d387-49f1-8eef-eebcce087d81",
   "metadata": {
    "tags": []
   },
   "outputs": [
    {
     "data": {
      "text/plain": [
       "array([0.1, 0.2, 0.3, 0.4, 0.5, 0.6, 0.7, 0.8, 0.9, 1. ])"
      ]
     },
     "execution_count": 30,
     "metadata": {},
     "output_type": "execute_result"
    }
   ],
   "source": [
    "# (minimo,maximo, número de elementos del array)\n",
    "np.linspace(0.1, 1, 10)"
   ]
  },
  {
   "cell_type": "markdown",
   "id": "4b948248-af57-459f-b1d1-f29fc9137f5c",
   "metadata": {},
   "source": [
    "#### Creación de array con valores aleatorios (random.rand)\n",
    "Esta función devuelve valores aleatorios entre 0 y 1"
   ]
  },
  {
   "cell_type": "code",
   "execution_count": 36,
   "id": "9e3dd316-819b-4830-9707-ccd3faf5562f",
   "metadata": {
    "tags": []
   },
   "outputs": [
    {
     "data": {
      "text/plain": [
       "array([[0.97357766, 0.60334332, 0.00610339],\n",
       "       [0.14525967, 0.83080975, 0.29123645],\n",
       "       [0.26544999, 0.44229708, 0.22541964],\n",
       "       [0.34453364, 0.6852017 , 0.03008661],\n",
       "       [0.53101681, 0.46586342, 0.48793485],\n",
       "       [0.77356659, 0.49323171, 0.27516396],\n",
       "       [0.9581237 , 0.56273929, 0.55322243]])"
      ]
     },
     "execution_count": 36,
     "metadata": {},
     "output_type": "execute_result"
    }
   ],
   "source": [
    "np.random.rand(7,3)"
   ]
  },
  {
   "cell_type": "markdown",
   "id": "5a8fe9ca-6064-460f-b4ac-dcf7996a9f04",
   "metadata": {},
   "source": [
    "#### Creación de array con valores aleatorios siguiendo una distribución normal (random.randn)\n"
   ]
  },
  {
   "cell_type": "code",
   "execution_count": 37,
   "id": "7412b501-f903-4583-ae04-8f91f9647612",
   "metadata": {
    "tags": []
   },
   "outputs": [
    {
     "data": {
      "text/plain": [
       "array([[ 0.06492108, -0.13549638, -4.15495084, -0.82519813],\n",
       "       [-0.85354137,  1.13343628, -0.01695442, -0.96241243],\n",
       "       [-0.30661349, -0.28342795, -0.14403835, -0.10030931],\n",
       "       [-0.1960072 , -1.10633407, -0.94132525,  1.10133215],\n",
       "       [-0.36855978, -0.95339559, -1.7253227 ,  1.11178091],\n",
       "       [-0.45138403,  1.22943191,  0.18939349,  0.72516398],\n",
       "       [-2.02122024,  1.84566928, -0.53496737,  0.56147894]])"
      ]
     },
     "execution_count": 37,
     "metadata": {},
     "output_type": "execute_result"
    }
   ],
   "source": [
    "np.random.randn(7,4)"
   ]
  }
 ],
 "metadata": {
  "kernelspec": {
   "display_name": "Python 3 (ipykernel)",
   "language": "python",
   "name": "python3"
  },
  "language_info": {
   "codemirror_mode": {
    "name": "ipython",
    "version": 3
   },
   "file_extension": ".py",
   "mimetype": "text/x-python",
   "name": "python",
   "nbconvert_exporter": "python",
   "pygments_lexer": "ipython3",
   "version": "3.11.5"
  }
 },
 "nbformat": 4,
 "nbformat_minor": 5
}
