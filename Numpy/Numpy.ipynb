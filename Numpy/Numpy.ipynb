{
 "cells": [
  {
   "cell_type": "markdown",
   "id": "1384912d",
   "metadata": {},
   "source": [
    "# Introducción a NumPy"
   ]
  },
  {
   "cell_type": "markdown",
   "id": "690f3055",
   "metadata": {},
   "source": [
    "## ¿Qué es NumPy?"
   ]
  },
  {
   "cell_type": "markdown",
   "id": "7afa116d",
   "metadata": {},
   "source": [
    "### Palabras Clave\n",
    "\n",
    "* Paquete\n",
    "* Matriz multidimensional\n",
    "* Operaciones rápidas entre matrices\n",
    "* Objeto ndarray\n",
    "* Datos homogéneos\n",
    "* Ejecución de código compilado."
   ]
  },
  {
   "cell_type": "markdown",
   "id": "cf26858e",
   "metadata": {},
   "source": [
    "Si nos dirigimos a la documentación oficial de [Numpy](https://numpy.org/doc/stable/user/whatisnumpy.html), podemos decir, en resumen, que es una herramienta útil cuando deseamos realizar operaciones con matrices. Su potencial se muestra al trabajar con matrices de tamaños cada vez más grandes, ya que ejecuta código compilado para realizar las operaciones sin la necesidad de salir de Python.\n",
    "\n",
    "Es importante destacar que los objetos ndarray deben ser de **datos homogéneos**, mencionándolo para evitar errores de ejecución."
   ]
  },
  {
   "cell_type": "markdown",
   "id": "2b0a34ac",
   "metadata": {},
   "source": [
    "## Diferencias entre el úso de NumPy y las secuencias estándar de Python"
   ]
  },
  {
   "cell_type": "markdown",
   "id": "318a10c9",
   "metadata": {},
   "source": [
    "|Numpy|Python|\n",
    "|:--------------------------------------:|:-------------------------:|\n",
    "|Tamaño fijo en el momento de su creación|Pueden crecer dinámicamente|\n",
    "|Los elementos deben ser homogéneos|Permite multples datos|\n",
    "|Facilidad en operaciones matemáticas avanzadas y procesamiento de grandes conjuntos de datos|Requiere implementar las operaciones además de la reducción en el rendimiento|\n",
    "|Compatibilidad con la mayoría del software científico/matemático basado en Python| **Saber cómo usar los tipos de secuencia integrados de Python es insuficiente**|"
   ]
  },
  {
   "cell_type": "markdown",
   "id": "f3cdbff2",
   "metadata": {},
   "source": [
    "> Cambiar el tamaño de un *ndarray* creará una nueva matrz y eliminará el original.\n",
    "\n",
    "> Es posible crear una matriz de objetos en NumPy permitiendo una mayor flexibilidad. Con la consecuencia de perder rendimiento y la capacidad de aprovechar las implementaciones más eficientes que ofrece el paquete.\n",
    "\n",
    "> NumPy nos ofrece lo mejor de ambos mundos. Se ejecuta a velocidades cercanas a C, pero con la simplicidad del código que esperamos de algo basado en Python."
   ]
  },
  {
   "cell_type": "markdown",
   "id": "7c88d143",
   "metadata": {},
   "source": [
    "## ¿Por qué utilizar NumPy?"
   ]
  },
  {
   "cell_type": "markdown",
   "id": "e24becf4",
   "metadata": {},
   "source": [
    "Pienso que la principal razón para utilizar NumPy es por su escalabilidad a paquetes basados en Python. Si deseamos utilizar Python como lenguaje de programación enfocado en aplicaciones cientificas de cualquier área NumPy es el estandar, tal es así que en la misma documentación refieren que la mayoria de las paqueterias que se implementan para Python requieren como base un arreglo de Numpy. El punto anterior es el fundamento de la necesidad de aprender a utilizarlo, como segundo punto esta el tiempo. Si nos enfocamos en el análisis de datos, encontraremos con frecuencia conjuntos de datos que superan el millon de datos, por ello es necesario tener una forma eficiente de preparar, procesar y analizar nuestros datos sin tener que sacrificar la facilidad en la codificación, esto es algo que logra el paquete Numpy gracias a las siguientes caracteristicas:\n",
    "\n",
    "* Vectorización: Permite realizar operaciones en arreglos completos en lugar de iterar sobre elementos individualmente.\n",
    "* Operaciones en C optimizadas: La implementación de las operaciones que realiza se implementan en C, provocando que se manipulen los datos a un nivel de abstracción más bajo.\n",
    "* Radiodifusión: Permite realizar operaciones entre arreglos de diferentes formas y tamaños de manera automática y eficiente."
   ]
  }
 ],
 "metadata": {
  "kernelspec": {
   "display_name": "Python 3 (ipykernel)",
   "language": "python",
   "name": "python3"
  },
  "language_info": {
   "codemirror_mode": {
    "name": "ipython",
    "version": 3
   },
   "file_extension": ".py",
   "mimetype": "text/x-python",
   "name": "python",
   "nbconvert_exporter": "python",
   "pygments_lexer": "ipython3",
   "version": "3.11.5"
  }
 },
 "nbformat": 4,
 "nbformat_minor": 5
}
