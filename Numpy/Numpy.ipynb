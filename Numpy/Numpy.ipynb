{
 "cells": [
  {
   "cell_type": "markdown",
   "id": "ac764b10",
   "metadata": {},
   "source": [
    "# Introducción a NumPy"
   ]
  },
  {
   "cell_type": "markdown",
   "id": "0087e6db",
   "metadata": {},
   "source": [
    "## ¿Qué es NumPy?"
   ]
  },
  {
   "cell_type": "markdown",
   "id": "e7bbe6b9",
   "metadata": {},
   "source": [
    "### Palabras Clave\n",
    "\n",
    "* Paquete\n",
    "* Matriz multidimensional\n",
    "* Operaciones rápidas entre matrices\n",
    "* Objeto ndarray\n",
    "* Datos homogéneos\n",
    "* Ejecución de código compilado."
   ]
  },
  {
   "cell_type": "markdown",
   "id": "889b5fe9",
   "metadata": {},
   "source": [
    "Si nos dirigimos a la documentación oficial de [Numpy](https://numpy.org/doc/stable/user/whatisnumpy.html), podemos decir, en resumen, que es una herramienta útil cuando deseamos realizar operaciones con matrices. Su potencial se muestra al trabajar con matrices de tamaños cada vez más grandes, ya que ejecuta código compilado para realizar las operaciones sin la necesidad de salir de Python.\n",
    "\n",
    "Es importante destacar que los objetos ndarray deben ser de **datos homogéneos**, mencionándolo para evitar errores de ejecución."
   ]
  },
  {
   "cell_type": "markdown",
   "id": "d5ad3675",
   "metadata": {},
   "source": [
    "## Diferencias entre el úso de NumPy y las secuencias estándar de Python"
   ]
  },
  {
   "cell_type": "markdown",
   "id": "0e46f634",
   "metadata": {},
   "source": [
    "|Numpy|Python|\n",
    "|:--------------------------------------:|:-------------------------:|\n",
    "|Tamaño fijo en el momento de su creación|Pueden crecer dinámicamente|\n",
    "|Los elementos deben ser homogéneos|Permite multples datos|\n",
    "|Facilidad en operaciones matemáticas avanzadas y procesamiento de grandes conjuntos de datos|Requiere implementar las operaciones además de la reducción en el rendimiento|\n",
    "|Compatibilidad con la mayoría del software científico/matemático basado en Python| **Saber cómo usar los tipos de secuencia integrados de Python es insuficiente**|"
   ]
  },
  {
   "cell_type": "markdown",
   "id": "1e7ad99e",
   "metadata": {},
   "source": [
    "> Cambiar el tamaño de un *ndarray* creará una nueva matrz y eliminará el original.\n",
    "\n",
    "> Es posible crear una matriz de objetos en NumPy permitiendo una mayor flexibilidad. Con la consecuencia de perder rendimiento y la capacidad de aprovechar las implementaciones más eficientes que ofrece el paquete.\n",
    "\n",
    "> NumPy nos ofrece lo mejor de ambos mundos. Se ejecuta a velocidades cercanas a C, pero con la simplicidad del código que esperamos de algo basado en Python."
   ]
  },
  {
   "cell_type": "markdown",
   "id": "3c971a22",
   "metadata": {},
   "source": [
    "## ¿Por qué utilizar NumPy?"
   ]
  },
  {
   "cell_type": "markdown",
   "id": "caf5d166",
   "metadata": {},
   "source": [
    "Pienso que la principal razón para utilizar NumPy es por su escalabilidad a paquetes basados en Python. Si deseamos utilizar Python como lenguaje de programación enfocado en aplicaciones cientificas de cualquier área NumPy es el estandar, tal es así que en la misma documentación refieren que la mayoria de las paqueterias que se implementan para Python requieren como base un arreglo de Numpy. El punto anterior es el fundamento de la necesidad de aprender a utilizarlo, como segundo punto esta el tiempo. Si nos enfocamos en el análisis de datos, encontraremos con frecuencia conjuntos de datos que superan el millon de datos, por ello es necesario tener una forma eficiente de preparar, procesar y analizar nuestros datos sin tener que sacrificar la facilidad en la codificación, esto es algo que logra el paquete Numpy gracias a las siguientes caracteristicas:\n",
    "\n",
    "* Vectorización: Permite realizar operaciones en arreglos completos en lugar de iterar sobre elementos individualmente.\n",
    "* Operaciones en C optimizadas: La implementación de las operaciones que realiza se implementan en C, provocando que se manipulen los datos a un nivel de abstracción más bajo.\n",
    "* Radiodifusión: Permite realizar operaciones entre arreglos de diferentes formas y tamaños de manera automática y eficiente."
   ]
  },
  {
   "cell_type": "markdown",
   "id": "7152b4df",
   "metadata": {},
   "source": [
    "## Inciando en NumPy"
   ]
  },
  {
   "cell_type": "code",
   "execution_count": 2,
   "id": "0eceec7f",
   "metadata": {},
   "outputs": [],
   "source": [
    "import numpy as np"
   ]
  },
  {
   "cell_type": "markdown",
   "id": "0eb52187",
   "metadata": {},
   "source": [
    "### Atributos básicos de la clase ndarray"
   ]
  },
  {
   "cell_type": "markdown",
   "id": "2164d3b8",
   "metadata": {},
   "source": [
    "- `ndarray.ndim`: El número de ejes (dimensiones) del array\n",
    "- `ndarray.shape`: Es una tupla de números enteros que indica la longitud  de cada dimensión.*(filas, columnas)*\n",
    "- `ndarray.size`: El número total de elementos del array, es igual a multiplicar los elementos de la tupla devuelta por `shape`.\n",
    "- `ndarray.dtype`: Devuelve una descripción del tipo de elementos que existen dentro del array. NumPy proporciona algunos tipos adicionales, por ejemplo, `numpy.int32`, `numpy.int16` o `numpy.float64`."
   ]
  },
  {
   "cell_type": "markdown",
   "id": "80fe43c1",
   "metadata": {},
   "source": [
    "### Creación de un array\n",
    "#### Desde una lista de Python"
   ]
  },
  {
   "cell_type": "code",
   "execution_count": 8,
   "id": "1b4368f1",
   "metadata": {},
   "outputs": [
    {
     "name": "stdout",
     "output_type": "stream",
     "text": [
      "[  1   2  56 878  14  45  19  21]\n"
     ]
    }
   ],
   "source": [
    "lista_01 = [1, 2, 56, 878, 14, 45, 19, 21]\n",
    "a = np.array(lista_01)\n",
    "print(a)"
   ]
  },
  {
   "cell_type": "code",
   "execution_count": null,
   "id": "36954b21",
   "metadata": {},
   "outputs": [],
   "source": [
    "# Longitud de cada dimensión del array a\n",
    "a.shape"
   ]
  },
  {
   "cell_type": "markdown",
   "id": "6476d66f",
   "metadata": {},
   "source": [
    "> **Nota** Observa que si el array es de una sola dimensión el atributo shape devuelve la tupla *(columnas,)* esta es una convención y lo que indica es que tenemos un array de *1 fila y 8 columnas*."
   ]
  },
  {
   "cell_type": "code",
   "execution_count": 14,
   "id": "f9f9c20a",
   "metadata": {},
   "outputs": [
    {
     "data": {
      "text/plain": [
       "array([[ 10, 155,  45],\n",
       "       [ 21, 178,  75]])"
      ]
     },
     "execution_count": 14,
     "metadata": {},
     "output_type": "execute_result"
    }
   ],
   "source": [
    "lista_02 = [[10,155,45],[21,178,75]]\n",
    "b = np.array(lista_02)\n",
    "b"
   ]
  },
  {
   "cell_type": "code",
   "execution_count": 15,
   "id": "c05d3912",
   "metadata": {},
   "outputs": [
    {
     "data": {
      "text/plain": [
       "(2, 3)"
      ]
     },
     "execution_count": 15,
     "metadata": {},
     "output_type": "execute_result"
    }
   ],
   "source": [
    "# Longitud de cada dimensión del array b\n",
    "b.shape"
   ]
  },
  {
   "cell_type": "markdown",
   "id": "468e55f4",
   "metadata": {},
   "source": [
    "Existen situaciones en donde necesitamos inicializar un array con valores que desconocemos y NumPy ofrece funciones para crear matrices con *contenido de marcador de posición inicial*."
   ]
  },
  {
   "cell_type": "markdown",
   "id": "9600eacd",
   "metadata": {},
   "source": [
    "#### Utilizando una función de NumPy"
   ]
  },
  {
   "cell_type": "markdown",
   "id": "4fe8388a",
   "metadata": {},
   "source": [
    "##### Matriz con ceros"
   ]
  },
  {
   "cell_type": "code",
   "execution_count": 18,
   "id": "0cdeda61",
   "metadata": {},
   "outputs": [
    {
     "data": {
      "text/plain": [
       "array([[0., 0., 0.],\n",
       "       [0., 0., 0.],\n",
       "       [0., 0., 0.],\n",
       "       [0., 0., 0.],\n",
       "       [0., 0., 0.]])"
      ]
     },
     "execution_count": 18,
     "metadata": {},
     "output_type": "execute_result"
    }
   ],
   "source": [
    "c = np.zeros((5,3)) # Matriz de 5x3 rellena de zeros\n",
    "c"
   ]
  },
  {
   "cell_type": "code",
   "execution_count": 20,
   "id": "cbf0a515",
   "metadata": {},
   "outputs": [
    {
     "data": {
      "text/plain": [
       "2"
      ]
     },
     "execution_count": 20,
     "metadata": {},
     "output_type": "execute_result"
    }
   ],
   "source": [
    "# Número de dimensiones de la matriz\n",
    "c.ndim"
   ]
  },
  {
   "cell_type": "code",
   "execution_count": 23,
   "id": "4d29e0ac",
   "metadata": {},
   "outputs": [
    {
     "data": {
      "text/plain": [
       "(5, 3)"
      ]
     },
     "execution_count": 23,
     "metadata": {},
     "output_type": "execute_result"
    }
   ],
   "source": [
    "# Longitud de cada dimensión\n",
    "c.shape"
   ]
  },
  {
   "cell_type": "code",
   "execution_count": 25,
   "id": "bc16f50d",
   "metadata": {},
   "outputs": [
    {
     "data": {
      "text/plain": [
       "15"
      ]
     },
     "execution_count": 25,
     "metadata": {},
     "output_type": "execute_result"
    }
   ],
   "source": [
    "# Número de elementos de la matriz\n",
    "c.size"
   ]
  },
  {
   "cell_type": "code",
   "execution_count": 27,
   "id": "5948276e",
   "metadata": {},
   "outputs": [
    {
     "data": {
      "text/plain": [
       "dtype('float64')"
      ]
     },
     "execution_count": 27,
     "metadata": {},
     "output_type": "execute_result"
    }
   ],
   "source": [
    "# Tipo de matriz\n",
    "c.dtype"
   ]
  },
  {
   "cell_type": "markdown",
   "id": "7bebb87e",
   "metadata": {},
   "source": [
    "c es una matriz con:\n",
    "- Dos ejes (**axis**) es decir, dos dimensiones (**rank**).\n",
    "- Longitud de 5 filas y 3 columnas (**shape**)\n",
    "- Un tamaño (**size**) de 15.\n",
    "- Tipo de elemento `float64`"
   ]
  }
 ],
 "metadata": {
  "kernelspec": {
   "display_name": "Python 3 (ipykernel)",
   "language": "python",
   "name": "python3"
  },
  "language_info": {
   "codemirror_mode": {
    "name": "ipython",
    "version": 3
   },
   "file_extension": ".py",
   "mimetype": "text/x-python",
   "name": "python",
   "nbconvert_exporter": "python",
   "pygments_lexer": "ipython3",
   "version": "3.11.5"
  }
 },
 "nbformat": 4,
 "nbformat_minor": 5
}
