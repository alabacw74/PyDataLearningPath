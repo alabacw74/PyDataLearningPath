{
 "cells": [
  {
   "cell_type": "markdown",
   "id": "33106922",
   "metadata": {},
   "source": [
    "# Introducción a NumPy"
   ]
  },
  {
   "cell_type": "markdown",
   "id": "238de447",
   "metadata": {},
   "source": [
    "## ¿Qué es NumPy?"
   ]
  },
  {
   "cell_type": "markdown",
   "id": "2e4337f6",
   "metadata": {},
   "source": [
    "### Palabras Clave\n",
    "\n",
    "* Paquete\n",
    "* Matriz multidimensional\n",
    "* Operaciones rápidas entre matrices\n",
    "* Objeto ndarray\n",
    "* Datos homogéneos\n",
    "* Ejecución de código compilado."
   ]
  },
  {
   "cell_type": "markdown",
   "id": "55b4be00",
   "metadata": {},
   "source": [
    "Si nos dirigimos a la documentación oficial de [Numpy](https://numpy.org/doc/stable/user/whatisnumpy.html), podemos decir, en resumen, que es una herramienta útil cuando deseamos realizar operaciones con matrices. Su potencial se muestra al trabajar con matrices de tamaños cada vez más grandes, ya que ejecuta código compilado para realizar las operaciones sin la necesidad de salir de Python.\n",
    "\n",
    "Es importante destacar que los objetos ndarray deben ser de **datos homogéneos**, mencionándolo para evitar errores de ejecución."
   ]
  },
  {
   "cell_type": "markdown",
   "id": "b45f4218",
   "metadata": {},
   "source": [
    "## Diferencias entre el úso de NumPy y las secuencias estándar de Python"
   ]
  },
  {
   "cell_type": "markdown",
   "id": "f8da4f7c",
   "metadata": {},
   "source": [
    "|Numpy|Python|\n",
    "|:--------------------------------------:|:-------------------------:|\n",
    "|Tamaño fijo en el momento de su creación|Pueden crecer dinámicamente|\n",
    "|Los elementos deben ser homogéneos|Permite multples datos|\n",
    "|Facilidad en operaciones matemáticas avanzadas y procesamiento de grandes conjuntos de datos|Requiere implementar las operaciones además de la reducción en el rendimiento|\n",
    "|Compatibilidad con la mayoría del software científico/matemático basado en Python| **Saber cómo usar los tipos de secuencia integrados de Python es insuficiente**|"
   ]
  },
  {
   "cell_type": "markdown",
   "id": "276ecffc",
   "metadata": {},
   "source": [
    "> Cambiar el tamaño de un *ndarray* creará una nueva matrz y eliminará el original.\n",
    "\n",
    "> Es posible crear una matriz de objetos en NumPy permitiendo una mayor flexibilidad. Con la consecuencia de perder rendimiento y la capacidad de aprovechar las implementaciones más eficientes que ofrece el paquete.\n",
    "\n",
    "> NumPy nos ofrece lo mejor de ambos mundos. Se ejecuta a velocidades cercanas a C, pero con la simplicidad del código que esperamos de algo basado en Python."
   ]
  }
 ],
 "metadata": {
  "kernelspec": {
   "display_name": "Python 3 (ipykernel)",
   "language": "python",
   "name": "python3"
  },
  "language_info": {
   "codemirror_mode": {
    "name": "ipython",
    "version": 3
   },
   "file_extension": ".py",
   "mimetype": "text/x-python",
   "name": "python",
   "nbconvert_exporter": "python",
   "pygments_lexer": "ipython3",
   "version": "3.11.5"
  }
 },
 "nbformat": 4,
 "nbformat_minor": 5
}
